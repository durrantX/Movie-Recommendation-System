{
 "cells": [
  {
   "cell_type": "markdown",
   "metadata": {},
   "source": [
    "Final Project Submission\n",
    "\n",
    "Student name: Deon Durrant\n",
    "\n",
    "Student pace: self paced\n",
    "\n",
    "Scheduled project review date/time:\n",
    "\n",
    "Instructor name: Mark Bardour"
   ]
  },
  {
   "cell_type": "markdown",
   "metadata": {},
   "source": [
    "Business and Data Understanding\n",
    "\n",
    "The King Isle event coordinator is responsible for organizing and recommending movie screenings for the residents of the island. The coordinator's goal is to ensure that each resident is offered movies they are more inclined to watch and enjoy based on their previous movie preferences. King Isle’s movie recommendation system should be able to provide tailored movie suggestions for each resident, allowing them to have a more enjoyable viewing experience.\n",
    "\n",
    "Problem Statement:\n",
    "The event coordinator needs to provide top 5 personalized movie recommendations to each resident based on their previous movie ratings. By analyzing the historical ratings given by residents to other movies, the system should predict which movies each resident would likely enjoy in the future and prioritize the highest-rated ones."
   ]
  },
  {
   "cell_type": "markdown",
   "metadata": {},
   "source": [
    "# Summary \n",
    "A movie recommendation system was developed to address the business problem using the MovieLens dataset, which contains 610 users and 100,836 movies and ratings. Initial data exploration revealed a positive bias in ratings and data sparsity due to low user engagement. To tackle these issues, a model-based collaborative filtering approach using Spark’s MLlib was employed. Matrix factorization via Alternating Least Squares (ALS) was used to manage the sparse data and the impact of extreme rating. A baseline model was tested with explicit feedback, and a cold-start strategy defined to handle null predictions. Hyperparameter tuning was conducted using Spark's machine learning pipeline, leveraging ParamGridBuilder and CrossValidator to optimize model performance. Root Mean Square Error (RMSE) was the primary accuracy metric for model evaluation, with the final model achieving an RMSE of 0.8769 compared to the baseline of 0.8813.\n",
    "\n",
    "The recommendation system was developed and assessed using both RMSE and Precision@K, which measures the proportion of relevant recommended items in the top-K. For example, the top five recommended movies had an RMSE of 0.456, while the Average Precision@K with a 4.5 relevance threshold was 0.6827. The proof of concept included recommendations to a distinct set of users and movies, demonstrating the system’s effectiveness. Personalized recommendations for individual user were also generated to gain deeper insights. While the goal was to identify the highest-rated movies, model performance across various relevance thresholds indicated that the system excelled at lower thresholds, highlighting its potential for recommending a broader range of relevant movies.\n"
   ]
  },
  {
   "cell_type": "markdown",
   "metadata": {},
   "source": [
    "# Exploratory Data Analysis\n"
   ]
  },
  {
   "cell_type": "code",
   "execution_count": 1,
   "metadata": {},
   "outputs": [
    {
     "name": "stdout",
     "output_type": "stream",
     "text": [
      "<class 'pandas.core.frame.DataFrame'>\n",
      "RangeIndex: 100836 entries, 0 to 100835\n",
      "Data columns (total 4 columns):\n",
      " #   Column     Non-Null Count   Dtype  \n",
      "---  ------     --------------   -----  \n",
      " 0   userId     100836 non-null  int64  \n",
      " 1   movieId    100836 non-null  int64  \n",
      " 2   rating     100836 non-null  float64\n",
      " 3   timestamp  100836 non-null  int64  \n",
      "dtypes: float64(1), int64(3)\n",
      "memory usage: 3.1 MB\n"
     ]
    }
   ],
   "source": [
    "# Data collection \n",
    "import pandas as pd\n",
    "df = pd.read_csv('ratings.csv')\n",
    "df.info()"
   ]
  },
  {
   "cell_type": "code",
   "execution_count": 2,
   "metadata": {},
   "outputs": [
    {
     "data": {
      "text/plain": [
       "userId       0\n",
       "movieId      0\n",
       "rating       0\n",
       "timestamp    0\n",
       "dtype: int64"
      ]
     },
     "execution_count": 2,
     "metadata": {},
     "output_type": "execute_result"
    }
   ],
   "source": [
    "df.isna().sum()"
   ]
  },
  {
   "cell_type": "code",
   "execution_count": 3,
   "metadata": {},
   "outputs": [
    {
     "data": {
      "text/html": [
       "<div>\n",
       "<style scoped>\n",
       "    .dataframe tbody tr th:only-of-type {\n",
       "        vertical-align: middle;\n",
       "    }\n",
       "\n",
       "    .dataframe tbody tr th {\n",
       "        vertical-align: top;\n",
       "    }\n",
       "\n",
       "    .dataframe thead th {\n",
       "        text-align: right;\n",
       "    }\n",
       "</style>\n",
       "<table border=\"1\" class=\"dataframe\">\n",
       "  <thead>\n",
       "    <tr style=\"text-align: right;\">\n",
       "      <th></th>\n",
       "      <th>userId</th>\n",
       "      <th>movieId</th>\n",
       "      <th>rating</th>\n",
       "      <th>timestamp</th>\n",
       "      <th>datetime</th>\n",
       "      <th>year</th>\n",
       "    </tr>\n",
       "  </thead>\n",
       "  <tbody>\n",
       "    <tr>\n",
       "      <th>0</th>\n",
       "      <td>1</td>\n",
       "      <td>1</td>\n",
       "      <td>4.0</td>\n",
       "      <td>964982703</td>\n",
       "      <td>2000-07-30 18:45:03</td>\n",
       "      <td>2000</td>\n",
       "    </tr>\n",
       "    <tr>\n",
       "      <th>1</th>\n",
       "      <td>1</td>\n",
       "      <td>3</td>\n",
       "      <td>4.0</td>\n",
       "      <td>964981247</td>\n",
       "      <td>2000-07-30 18:20:47</td>\n",
       "      <td>2000</td>\n",
       "    </tr>\n",
       "    <tr>\n",
       "      <th>2</th>\n",
       "      <td>1</td>\n",
       "      <td>6</td>\n",
       "      <td>4.0</td>\n",
       "      <td>964982224</td>\n",
       "      <td>2000-07-30 18:37:04</td>\n",
       "      <td>2000</td>\n",
       "    </tr>\n",
       "    <tr>\n",
       "      <th>3</th>\n",
       "      <td>1</td>\n",
       "      <td>47</td>\n",
       "      <td>5.0</td>\n",
       "      <td>964983815</td>\n",
       "      <td>2000-07-30 19:03:35</td>\n",
       "      <td>2000</td>\n",
       "    </tr>\n",
       "    <tr>\n",
       "      <th>4</th>\n",
       "      <td>1</td>\n",
       "      <td>50</td>\n",
       "      <td>5.0</td>\n",
       "      <td>964982931</td>\n",
       "      <td>2000-07-30 18:48:51</td>\n",
       "      <td>2000</td>\n",
       "    </tr>\n",
       "  </tbody>\n",
       "</table>\n",
       "</div>"
      ],
      "text/plain": [
       "   userId  movieId  rating  timestamp            datetime  year\n",
       "0       1        1     4.0  964982703 2000-07-30 18:45:03  2000\n",
       "1       1        3     4.0  964981247 2000-07-30 18:20:47  2000\n",
       "2       1        6     4.0  964982224 2000-07-30 18:37:04  2000\n",
       "3       1       47     5.0  964983815 2000-07-30 19:03:35  2000\n",
       "4       1       50     5.0  964982931 2000-07-30 18:48:51  2000"
      ]
     },
     "execution_count": 3,
     "metadata": {},
     "output_type": "execute_result"
    }
   ],
   "source": [
    "# Convert the Unix timestamp to a datetime format\n",
    "df['datetime'] = pd.to_datetime(df['timestamp'], unit='s')\n",
    "\n",
    "# Extract the year from the datetime\n",
    "df['year'] = df['datetime'].dt.year\n",
    "\n",
    "df.head()"
   ]
  },
  {
   "cell_type": "markdown",
   "metadata": {},
   "source": [
    "The ratings dataset has 100836 entries in four columns. There are no missing values. "
   ]
  },
  {
   "cell_type": "code",
   "execution_count": 4,
   "metadata": {},
   "outputs": [
    {
     "data": {
      "text/html": [
       "<div>\n",
       "<style scoped>\n",
       "    .dataframe tbody tr th:only-of-type {\n",
       "        vertical-align: middle;\n",
       "    }\n",
       "\n",
       "    .dataframe tbody tr th {\n",
       "        vertical-align: top;\n",
       "    }\n",
       "\n",
       "    .dataframe thead th {\n",
       "        text-align: right;\n",
       "    }\n",
       "</style>\n",
       "<table border=\"1\" class=\"dataframe\">\n",
       "  <thead>\n",
       "    <tr style=\"text-align: right;\">\n",
       "      <th></th>\n",
       "      <th>userId</th>\n",
       "      <th>movieId</th>\n",
       "      <th>rating</th>\n",
       "      <th>year</th>\n",
       "    </tr>\n",
       "  </thead>\n",
       "  <tbody>\n",
       "    <tr>\n",
       "      <th>0</th>\n",
       "      <td>1</td>\n",
       "      <td>1</td>\n",
       "      <td>4.0</td>\n",
       "      <td>2000</td>\n",
       "    </tr>\n",
       "    <tr>\n",
       "      <th>1</th>\n",
       "      <td>1</td>\n",
       "      <td>3</td>\n",
       "      <td>4.0</td>\n",
       "      <td>2000</td>\n",
       "    </tr>\n",
       "    <tr>\n",
       "      <th>2</th>\n",
       "      <td>1</td>\n",
       "      <td>6</td>\n",
       "      <td>4.0</td>\n",
       "      <td>2000</td>\n",
       "    </tr>\n",
       "    <tr>\n",
       "      <th>3</th>\n",
       "      <td>1</td>\n",
       "      <td>47</td>\n",
       "      <td>5.0</td>\n",
       "      <td>2000</td>\n",
       "    </tr>\n",
       "    <tr>\n",
       "      <th>4</th>\n",
       "      <td>1</td>\n",
       "      <td>50</td>\n",
       "      <td>5.0</td>\n",
       "      <td>2000</td>\n",
       "    </tr>\n",
       "  </tbody>\n",
       "</table>\n",
       "</div>"
      ],
      "text/plain": [
       "   userId  movieId  rating  year\n",
       "0       1        1     4.0  2000\n",
       "1       1        3     4.0  2000\n",
       "2       1        6     4.0  2000\n",
       "3       1       47     5.0  2000\n",
       "4       1       50     5.0  2000"
      ]
     },
     "execution_count": 4,
     "metadata": {},
     "output_type": "execute_result"
    }
   ],
   "source": [
    "df.drop(['timestamp', 'datetime'],axis=1, inplace=True)\n",
    "df.head(5)"
   ]
  },
  {
   "cell_type": "code",
   "execution_count": 5,
   "metadata": {},
   "outputs": [
    {
     "data": {
      "image/png": "[encoded data removed]",
      "text/plain": [
       "<Figure size 1080x720 with 1 Axes>"
      ]
     },
     "metadata": {
      "needs_background": "light"
     },
     "output_type": "display_data"
    }
   ],
   "source": [
    "# Explore the rating distribution\n",
    "import matplotlib.pyplot as plt \n",
    "import numpy as np\n",
    "# visualize the rating column\n",
    "rating_type= df['rating'].value_counts()# Establish  figure size\n",
    "plt.figure(figsize=(15, 10))\n",
    "num_bars = len(rating_type)\n",
    "colors = plt.cm.viridis(np.linspace(0, 1, num_bars)) \n",
    "# Plot the data\n",
    "rating_type.plot(kind='bar', color=colors)\n",
    "\n",
    "# Label the plot\n",
    "plt.title(\"Distribution of Ratings\")\n",
    "plt.xlabel(\"Rating\")\n",
    "plt.ylabel(\"Frequency\")\n",
    "\n",
    "# Show the plot\n",
    "plt.show()"
   ]
  },
  {
   "cell_type": "markdown",
   "metadata": {},
   "source": [
    "# Rating Distribution \n",
    "Rating are either implicit or explicit. Explicit ratings/feedback occurs when users directly rates the item for example giving a news item the thumbs down. In this case the explicit rating is on a scale 0-5.  Implicit rating/feedback makes assumptions about a user's preference based on their actions towards items for example how long the user interacted with the movies.\n",
    "\n",
    "The data distributed indicates a positive ratings of movies  are more common. These higher ratings suggest that users are generally satisfied with the  movies. There may be a positive bias in the ratings. The data distibution and business task may influence the model's performance. \n",
    "."
   ]
  },
  {
   "cell_type": "code",
   "execution_count": 6,
   "metadata": {},
   "outputs": [
    {
     "name": "stdout",
     "output_type": "stream",
     "text": [
      "4.0    26.595660\n",
      "3.0    19.880797\n",
      "5.0    13.101472\n",
      "3.5    13.027093\n",
      "4.5     8.480106\n",
      "2.0     7.488397\n",
      "2.5     5.503987\n",
      "1.0     2.787695\n",
      "1.5     1.776151\n",
      "0.5     1.358642\n",
      "Name: rating, dtype: float64\n"
     ]
    }
   ],
   "source": [
    "# Calculate the percentage distribution of the rating column\n",
    "rating_percentages = df['rating'].value_counts(normalize=True) * 100\n",
    "\n",
    "# Display the percentages\n",
    "print(rating_percentages)"
   ]
  },
  {
   "cell_type": "code",
   "execution_count": 7,
   "metadata": {},
   "outputs": [
    {
     "data": {
      "image/png": "[encoded data removed]",
      "text/plain": [
       "<Figure size 432x288 with 1 Axes>"
      ]
     },
     "metadata": {},
     "output_type": "display_data"
    }
   ],
   "source": [
    "# Visualize the percentage rating \n",
    "rating_percentages.plot(kind='pie', autopct='%1.1f%%')\n",
    "\n",
    "plt.title(\"Distribution of Ratings (Percentage)\")\n",
    "plt.axis('equal')\n",
    "\n",
    "# Show the plot\n",
    "plt.show()"
   ]
  },
  {
   "cell_type": "markdown",
   "metadata": {},
   "source": [
    "# Ratings Percentage Distribution\n",
    "Percentage distribution of ratings skews toward higher ratings, which could be an indication of positive bias.\n",
    "\n",
    "* Ratings 4.0 and above: The combined percentage for ratings 4.0, 4.5, and 5.0 is about 48.17%. 4.0 (26.60%),\n",
    "* Ratingd 3.0 to 3.5:  Makes  up 32.91% of the ratings \n",
    "* Ratings below 3.0: Account for a much smaller portion of the ratings ( 18.91%). \n",
    "\n",
    "Implication of this postive bias will likely skew recommendations toward high-rated movies and may not truly reflect the users' diverse preferences.\n",
    "\n",
    "To address the issue the following strategies can be used .\n",
    "* Normalization of the ratings  to account for individual user bias toward higher ratings.\n",
    "* Regularization  of the ALS model(matrix factorization) to reduce the impact of extreme ratings by preventing the model from overfitting to popular, positively rated items."
   ]
  },
  {
   "cell_type": "markdown",
   "metadata": {},
   "source": [
    " # Distribution of ratings across users\n",
    "To understand the distribution of the number of ratings across many users the histogram will be used "
   ]
  },
  {
   "cell_type": "code",
   "execution_count": 8,
   "metadata": {},
   "outputs": [
    {
     "data": {
      "text/plain": [
       "414    2698\n",
       "599    2478\n",
       "474    2108\n",
       "448    1864\n",
       "274    1346\n",
       "       ... \n",
       "406      20\n",
       "595      20\n",
       "569      20\n",
       "431      20\n",
       "442      20\n",
       "Name: userId, Length: 610, dtype: int64"
      ]
     },
     "execution_count": 8,
     "metadata": {},
     "output_type": "execute_result"
    }
   ],
   "source": [
    "gb_user=df['userId'].value_counts()\n",
    "gb_user"
   ]
  },
  {
   "cell_type": "code",
   "execution_count": 9,
   "metadata": {},
   "outputs": [
    {
     "data": {
      "image/png": "[encoded data removed]",
      "text/plain": [
       "<Figure size 1440x720 with 1 Axes>"
      ]
     },
     "metadata": {
      "needs_background": "light"
     },
     "output_type": "display_data"
    }
   ],
   "source": [
    "# Count the number of ratings per user\n",
    "gb_user=df['userId'].value_counts()\n",
    "# Plot the  distribution of the number of ratings by user\n",
    "plt.figure(figsize=(20, 10))\n",
    "plt.hist(gb_user, bins=20, color='skyblue', edgecolor='black')\n",
    "plt.title(\"Distribution of Number of Ratings per User\")\n",
    "plt.xlabel(\"Number of Ratings\")\n",
    "plt.ylabel(\"Number of Users\")\n",
    "plt.show()"
   ]
  },
  {
   "cell_type": "markdown",
   "metadata": {},
   "source": [
    "# Distribution of Ratings Across Users\n",
    "\n",
    "The majority of users fall into the first bin, suggesting that many users might have rated few movies. This suggest low engagement in terms of ratings. Since users maybe rating fewer items this maybe leading to sparse datasets. In contrast there are fewer users with high rating engagements which could have a significant impact on the recommendation model. \n",
    "\n",
    " To address sparsity, matrix factorization techniques like Alternating Least Squares will be used. "
   ]
  },
  {
   "cell_type": "code",
   "execution_count": 10,
   "metadata": {},
   "outputs": [
    {
     "data": {
      "image/png": "[encoded data removed]",
      "text/plain": [
       "<Figure size 720x576 with 1 Axes>"
      ]
     },
     "metadata": {
      "needs_background": "light"
     },
     "output_type": "display_data"
    },
    {
     "data": {
      "image/png": "[encoded data removed]",
      "text/plain": [
       "<Figure size 720x432 with 1 Axes>"
      ]
     },
     "metadata": {
      "needs_background": "light"
     },
     "output_type": "display_data"
    }
   ],
   "source": [
    "# Count the number of ratings per year\n",
    "gb_year=df['year'].value_counts().sort_index()\n",
    "# Plot the  distribution of the number of ratings by year\n",
    "plt.figure(figsize=(10, 8))\n",
    "\n",
    "ax=gb_year.plot(kind='bar',    linestyle='-',color='blue', edgecolor='black')\n",
    "\n",
    "for p in ax.patches:\n",
    "    ax.annotate(f'{int(p.get_height())}', \n",
    "                (p.get_x() + p.get_width() / 2., p.get_height()), \n",
    "                ha='center', va='center', xytext=(0, 10), textcoords='offset points')\n",
    "# Plot a line graph to visualize the trend\n",
    "plt.figure(figsize=(10, 6))\n",
    "plt.plot(gb_year.index, gb_year.values, marker='o', linestyle='-', color='b')\n",
    "\n",
    "\n",
    "plt.title(\"Distribution of Number of Ratings per Year\")\n",
    "plt.xlabel(\"Year\")\n",
    "plt.ylabel(\"Number of Ratings\")\n",
    "plt.show()"
   ]
  },
  {
   "cell_type": "markdown",
   "metadata": {},
   "source": [
    "# Model selection\n",
    "\n",
    "To address the business problem collabiarative filtering CF approaches will be considered. \n",
    "\n",
    "## Collaborative Filtering  Approaches\n",
    "* User-based filtering- recommends items to the target user based on preferences of other users.\n",
    "* Item based filtering - recommends new items to the target user based on the user’s previous interactions with similar items\n",
    "* Model based CF -Model-based approach creates a predictive machine learning model of the data. The present values in the utility matrix are used as the training data while predictions are made on the interactions that are yet to occur. \n",
    "\n",
    "Model based collaborative filtering will be used to address the business problem,  specifically  Sparks from MLlib. "
   ]
  },
  {
   "cell_type": "code",
   "execution_count": 11,
   "metadata": {},
   "outputs": [],
   "source": [
    "#Importing the required pyspark library \n",
    "from pyspark.sql import SparkSession  \n",
    "import numpy as np "
   ]
  },
  {
   "cell_type": "code",
   "execution_count": 12,
   "metadata": {},
   "outputs": [
    {
     "data": {
      "text/html": [
       "\n",
       "            <div>\n",
       "                <p><b>SparkSession - in-memory</b></p>\n",
       "                \n",
       "        <div>\n",
       "            <p><b>SparkContext</b></p>\n",
       "\n",
       "            <p><a href=\"http://192.168.1.78:4040\">Spark UI</a></p>\n",
       "\n",
       "            <dl>\n",
       "              <dt>Version</dt>\n",
       "                <dd><code>v3.5.2</code></dd>\n",
       "              <dt>Master</dt>\n",
       "                <dd><code>local[*]</code></dd>\n",
       "              <dt>AppName</dt>\n",
       "                <dd><code>Recommender</code></dd>\n",
       "            </dl>\n",
       "        </div>\n",
       "        \n",
       "            </div>\n",
       "        "
      ],
      "text/plain": [
       "<pyspark.sql.session.SparkSession at 0x18e3b5b0b50>"
      ]
     },
     "execution_count": 12,
     "metadata": {},
     "output_type": "execute_result"
    }
   ],
   "source": [
    "from pyspark.sql import SparkSession \n",
    "# Initialize  spark session \n",
    " \n",
    "spark = SparkSession.builder.appName('Recommender').getOrCreate() \n",
    "spark"
   ]
  },
  {
   "cell_type": "markdown",
   "metadata": {},
   "source": [
    "# Load and prepare data"
   ]
  },
  {
   "cell_type": "code",
   "execution_count": 13,
   "metadata": {},
   "outputs": [
    {
     "name": "stdout",
     "output_type": "stream",
     "text": [
      "+------+-------+------+---------+\n",
      "|userId|movieId|rating|timestamp|\n",
      "+------+-------+------+---------+\n",
      "|     1|      1|   4.0|964982703|\n",
      "|     1|      3|   4.0|964981247|\n",
      "|     1|      6|   4.0|964982224|\n",
      "|     1|     47|   5.0|964983815|\n",
      "|     1|     50|   5.0|964982931|\n",
      "+------+-------+------+---------+\n",
      "only showing top 5 rows\n",
      "\n"
     ]
    }
   ],
   "source": [
    "# Read data from the ratings dataset . \n",
    "ratings_data = spark.read.csv('ratings.csv', inferSchema=True,header=True) \n",
    "ratings_data.show(5) "
   ]
  },
  {
   "cell_type": "code",
   "execution_count": 14,
   "metadata": {},
   "outputs": [
    {
     "name": "stdout",
     "output_type": "stream",
     "text": [
      "+------+-------+------+----+\n",
      "|userId|movieId|rating|year|\n",
      "+------+-------+------+----+\n",
      "|     1|      1|   4.0|2000|\n",
      "|     1|      3|   4.0|2000|\n",
      "|     1|      6|   4.0|2000|\n",
      "|     1|     47|   5.0|2000|\n",
      "|     1|     50|   5.0|2000|\n",
      "+------+-------+------+----+\n",
      "only showing top 5 rows\n",
      "\n"
     ]
    }
   ],
   "source": [
    "from pyspark.sql.functions import from_unixtime, year\n",
    "\n",
    "# Convert  timestamp to year\n",
    "ratings_df = ratings_data.withColumn('year', year(from_unixtime('timestamp'))).drop('timestamp')\n",
    "\n",
    "# Show the result\n",
    "ratings_df.show(5)"
   ]
  },
  {
   "cell_type": "code",
   "execution_count": 15,
   "metadata": {},
   "outputs": [
    {
     "name": "stdout",
     "output_type": "stream",
     "text": [
      "+-------+------------------+----------------+------------------+------------------+\n",
      "|summary|            userId|         movieId|            rating|              year|\n",
      "+-------+------------------+----------------+------------------+------------------+\n",
      "|  count|            100836|          100836|            100836|            100836|\n",
      "|   mean|326.12756356856676|19435.2957177992| 3.501556983616962|2007.7226189059463|\n",
      "| stddev| 182.6184914635004|35530.9871987003|1.0425292390606342| 6.890283870015307|\n",
      "|    min|                 1|               1|               0.5|              1996|\n",
      "|    max|               610|          193609|               5.0|              2018|\n",
      "+-------+------------------+----------------+------------------+------------------+\n",
      "\n"
     ]
    }
   ],
   "source": [
    "# Describe dataset\n",
    "ratings_df.describe().show()"
   ]
  },
  {
   "cell_type": "markdown",
   "metadata": {},
   "source": [
    "All 100,836 movie entries have a rating, with maximum rating of 5 and minimum of 0.5. There are 610 user ids indicating that users are rating multiple movies.The average rating is 3.5."
   ]
  },
  {
   "cell_type": "code",
   "execution_count": 16,
   "metadata": {},
   "outputs": [
    {
     "name": "stdout",
     "output_type": "stream",
     "text": [
      "+------+-------+------+\n",
      "|userId|movieId|rating|\n",
      "+------+-------+------+\n",
      "|     1|      1|   4.0|\n",
      "|     1|      3|   4.0|\n",
      "|     1|      6|   4.0|\n",
      "|     1|     47|   5.0|\n",
      "|     1|     50|   5.0|\n",
      "|     1|     70|   3.0|\n",
      "|     1|    101|   5.0|\n",
      "|     1|    110|   4.0|\n",
      "|     1|    151|   5.0|\n",
      "|     1|    157|   5.0|\n",
      "|     1|    163|   5.0|\n",
      "|     1|    216|   5.0|\n",
      "|     1|    223|   3.0|\n",
      "|     1|    231|   5.0|\n",
      "|     1|    235|   4.0|\n",
      "|     1|    260|   5.0|\n",
      "|     1|    296|   3.0|\n",
      "|     1|    316|   3.0|\n",
      "|     1|    333|   5.0|\n",
      "|     1|    349|   4.0|\n",
      "+------+-------+------+\n",
      "only showing top 20 rows\n",
      "\n"
     ]
    }
   ],
   "source": [
    "ratings_df=ratings_df.drop('year')\n",
    "ratings_df.show()"
   ]
  },
  {
   "cell_type": "code",
   "execution_count": 17,
   "metadata": {},
   "outputs": [
    {
     "name": "stdout",
     "output_type": "stream",
     "text": [
      "+-------+--------------------+--------------------+\n",
      "|movieId|               title|              genres|\n",
      "+-------+--------------------+--------------------+\n",
      "|      1|    Toy Story (1995)|Adventure|Animati...|\n",
      "|      2|      Jumanji (1995)|Adventure|Childre...|\n",
      "|      3|Grumpier Old Men ...|      Comedy|Romance|\n",
      "|      4|Waiting to Exhale...|Comedy|Drama|Romance|\n",
      "|      5|Father of the Bri...|              Comedy|\n",
      "+-------+--------------------+--------------------+\n",
      "only showing top 5 rows\n",
      "\n"
     ]
    }
   ],
   "source": [
    "# Read data from the movies dataset . \n",
    "movies_data = spark.read.csv('movies.csv', inferSchema=True,header=True) \n",
    "movies_data=movies_data.na.drop()\n",
    "movies_data.show(5) "
   ]
  },
  {
   "cell_type": "markdown",
   "metadata": {},
   "source": [
    "\n",
    "# Train A Model\n",
    "\n",
    "## Import the Alternating Least Squares(ALS) Method and apply it.\n",
    "\n",
    "\n",
    "* rank: the number of latent factors in the model (defaults to 10).\n",
    "* maxIter:  is the maximum number of iterations to run (defaults to 10).\n",
    "* regParam: specifies the regularization parameter in ALS (defaults to 1.0).\n",
    "* implicitPrefs:  specifies whether to use the explicit feedback or  implicit feedback data (defaults to false - means using explicit feedback).\n",
    "* nonnegative: specifies whether or not to use nonnegative constraints for least squares (defaults to false)."
   ]
  },
  {
   "cell_type": "code",
   "execution_count": 18,
   "metadata": {},
   "outputs": [],
   "source": [
    "# Split and train  ratings dataset\n",
    "# Dividing the data using random split into train_data 80%  and test_data 20%  \n",
    "train_data, test_data = ratings_df.randomSplit([0.8, 0.2], seed=42)"
   ]
  },
  {
   "cell_type": "code",
   "execution_count": 19,
   "metadata": {},
   "outputs": [],
   "source": [
    "# Import the Alternating Least Squares(ALS) Method and apply it.\n",
    "from pyspark.ml.recommendation import ALS \n",
    "# Build the recommendation model using ALS  default params on the training data \n",
    "als = ALS( coldStartStrategy=\"drop\", # to address cold start problem \n",
    "          userCol=\"userId\",\n",
    "          itemCol=\"movieId\", \n",
    "          ratingCol=\"rating\",\n",
    "          seed=42,\n",
    "         )\n",
    "#Fit the model on the train_data \n",
    "model = als.fit(train_data)"
   ]
  },
  {
   "cell_type": "markdown",
   "metadata": {},
   "source": [
    "# Cold Start Strategy\n",
    "Cold start issues arise when there is insufficient data to match users with items. This can happen in several situations\n",
    "* new users or items that have no rating history and on which the model has not been trained\n",
    "* encounter users and/or items in the evaluation set that are not in the training set\n",
    "* sparse interaction as some users or items may be present in the training data but have very few interactions\n",
    "\n",
    "These situations can result in poor generalization, weak predictions, and potential overfitting on items with high user interactions. To address the issue  coldStartStrategy=\"drop\"  to remove any rows in the DataFrame of predictions that contain NaN values."
   ]
  },
  {
   "cell_type": "markdown",
   "metadata": {},
   "source": [
    "# Make Predictions with  Model\n",
    "The trained model can be used to predict ratings with a given test data."
   ]
  },
  {
   "cell_type": "code",
   "execution_count": 20,
   "metadata": {},
   "outputs": [
    {
     "name": "stdout",
     "output_type": "stream",
     "text": [
      "+------+-------+------+----------+\n",
      "|userId|movieId|rating|prediction|\n",
      "+------+-------+------+----------+\n",
      "|   463|   1088|   3.5| 3.9879189|\n",
      "|   580|   3175|   2.5| 3.7096252|\n",
      "|   580|  44022|   3.5| 3.4450464|\n",
      "|   362|   1645|   5.0| 3.6496258|\n",
      "|   597|   1959|   4.0|   4.04303|\n",
      "|   155|   3175|   4.0|  3.466539|\n",
      "|   368|   2122|   2.0| 2.4186718|\n",
      "|   115|   1645|   4.0| 2.8170109|\n",
      "|   115|   3175|   4.0|  4.126749|\n",
      "|    28|   1645|   2.5| 2.4221506|\n",
      "|    28|   3175|   1.5| 3.3600736|\n",
      "|   587|   1580|   4.0|  4.158138|\n",
      "|   332|   1645|   3.5| 2.9700162|\n",
      "|   332|   2366|   3.5| 3.6067934|\n",
      "|   577|   1580|   3.0| 3.3414087|\n",
      "|   577|   1959|   4.0| 3.6017723|\n",
      "|   271|   6658|   2.0| 2.6535034|\n",
      "|   606|   1088|   3.0| 3.5428398|\n",
      "|    91|   1580|   3.5|  3.391724|\n",
      "|    91|   6620|   3.5| 3.4276881|\n",
      "+------+-------+------+----------+\n",
      "only showing top 20 rows\n",
      "\n"
     ]
    }
   ],
   "source": [
    "# Create predictions on the test data \n",
    "predictions = model.transform(test_data) \n",
    "\n",
    "#Displaying predictions calculated by the model \n",
    "predictions.show()"
   ]
  },
  {
   "cell_type": "markdown",
   "metadata": {},
   "source": [
    "# Predictions \n",
    "* For higher actual ratings (e.g., 5 ) the model tends to predict lower values (e.g.,3.6 ). This suggests the model might not fully capture the user’s strong preference for certain items, leading to underprediction.\n",
    "* For lower actual ratings (e.g., 1.5 ), the model sometimes predicts higher values (e.g., 3.3 ). This might indicate that the model is overestimating the user’s interest in some items, particularly for lower ratings.\n",
    "\n",
    "* The model seems to perform reasonably well for mid-range ratings (e.g., 3.5)"
   ]
  },
  {
   "cell_type": "markdown",
   "metadata": {},
   "source": [
    "# Model Evaluations"
   ]
  },
  {
   "cell_type": "code",
   "execution_count": 21,
   "metadata": {},
   "outputs": [
    {
     "name": "stdout",
     "output_type": "stream",
     "text": [
      "Root Mean Square Error RMSE = 0.8813828296669005\n",
      "Mean Absolute Error (MAE) = 0.6782378941236188\n"
     ]
    }
   ],
   "source": [
    "from pyspark.ml.evaluation import RegressionEvaluator \n",
    "\n",
    "#Create evaluator for each metric \n",
    "rmse_evaluator = RegressionEvaluator(metricName=\"rmse\", labelCol=\"rating\",predictionCol=\"prediction\") \n",
    "mae_evaluator = RegressionEvaluator(metricName=\"mae\", labelCol=\"rating\", predictionCol=\"prediction\")\n",
    "\n",
    "\n",
    "# Calculate the metrics\n",
    "rmse = rmse_evaluator.evaluate(predictions)\n",
    "mae = mae_evaluator.evaluate(predictions)\n",
    "\n",
    "# Print the results\n",
    "print(\"Root Mean Square Error RMSE = \" + str(rmse))\n",
    "\n",
    "print(\"Mean Absolute Error (MAE) = \"+ str(mae))\n"
   ]
  },
  {
   "cell_type": "markdown",
   "metadata": {},
   "source": [
    "Interpretation\n",
    "\n",
    "The evaluation metrics measure the accuracy of the model's prediction.\n",
    "\n",
    " RMSE = 0.8813\n",
    " \n",
    "* The root mean square error penalizes larger errors more than smaller errors, therefore a smaller RMSE is a more accurate measure when the goal is to minimize the effects of large errors. \n",
    "\n",
    "* RMSE provides a sense of how far the predictions are from the actual values. \n",
    "    \n",
    "MAE=0.678\n",
    " \n",
    "* Mean absolute errors MAE measures the averages of the absolute differences between predicted and actual values, without penalizing larger errors more.\n",
    "* Lower MAE measure indicates a better performing model.\n",
    "    \n",
    "The model performance indicates there maybe some errors in the predictions. To address the issue the model will be hypertuned to find the best parameters. "
   ]
  },
  {
   "cell_type": "markdown",
   "metadata": {},
   "source": [
    "# Hyperparameter tuning\n",
    "\n",
    "RMSE is very high, the default parameters were used to train the model. Hyperparameter tuning will be used to determine the best parameters for the business task by applying a range of parameters. ParamGridBuilder utility will be used before running model selection with CrossValidator "
   ]
  },
  {
   "cell_type": "code",
   "execution_count": 22,
   "metadata": {},
   "outputs": [],
   "source": [
    "from pyspark.ml.tuning import ParamGridBuilder , CrossValidator\n",
    "als = ALS(nonnegative=True,\n",
    "          implicitPrefs=False,\n",
    "          coldStartStrategy=\"drop\",\n",
    "          userCol=\"userId\",\n",
    "          itemCol=\"movieId\",\n",
    "          ratingCol=\"rating\",\n",
    "          seed=42\n",
    "         )\n",
    "\n",
    "# Add hyperparameters and their respective values to paramGrid\n",
    "paramGrid =(ParamGridBuilder()\n",
    "            .addGrid(als.rank, [5, 8 ])                    # number of latent factors in the model\n",
    "            .addGrid(als.maxIter, [5, 10, 15 ])                     # maximum number of iterations to run\n",
    "            .addGrid(als.regParam, [  0.2, 0.5]) .build()) # specifies the regularization parameter in ALS\n",
    "\n",
    " \n",
    "\n",
    "# Create a RegressionEvaluator for RMSE\n",
    "evaluator_rsme = RegressionEvaluator(metricName=\"rmse\",\n",
    "                                labelCol=\"rating\",\n",
    "                                predictionCol=\"prediction\")\n",
    "\n",
    "\n",
    " # Initialize the  crossValidator - crossvalidator to improve generalization    \n",
    "cv = CrossValidator(estimator=als,\n",
    "                    evaluator=evaluator_rsme ,\n",
    "                    estimatorParamMaps=paramGrid,\n",
    "                    parallelism=2,  # 2 models will be trained and evaluated at the same time.\n",
    "                    numFolds=5)  # split the dataset into a set of non-overlapping randomly partitioned folds "
   ]
  },
  {
   "cell_type": "code",
   "execution_count": 23,
   "metadata": {},
   "outputs": [
    {
     "name": "stdout",
     "output_type": "stream",
     "text": [
      "Best Model Parameters:\n",
      " Rank: 8\n",
      " Max Iterations: 15\n",
      " Regularization Parameter: 0.2\n"
     ]
    }
   ],
   "source": [
    "# Fit the model\n",
    "model = cv.fit(train_data)\n",
    "\n",
    "# Extract the best model from hypertuning exercise using ParamGridBuilder\n",
    "bestModel = model.bestModel\n",
    "\n",
    "\n",
    "# Print details of the best model\n",
    "print(\"Best Model Parameters:\")\n",
    "print(f\" Rank: {bestModel.rank}\")\n",
    "print(f\" Max Iterations: {bestModel._java_obj.parent().getMaxIter()}\")\n",
    "print(f\" Regularization Parameter: {bestModel._java_obj.parent().getRegParam()}\")"
   ]
  },
  {
   "cell_type": "markdown",
   "metadata": {},
   "source": [
    "Best model parameter \n",
    "*  Rank of 8 indicates a lower number of latent factors  capturing the user-item interactions and  reduced risk of overfitting(rank determines dimensions the matrices) \n",
    "* Max Iterations of 15 is the  the number of iterations the ALS algorithm  will run. More iterations allow the algorithm to reduce errors and converge to better solutions.\n",
    "* Regularization Parameter of 0.2 applies a moderate penalty to user item latent factor values, preventing the model from overfitting while allowing it to capture patterns in the data"
   ]
  },
  {
   "cell_type": "code",
   "execution_count": 24,
   "metadata": {},
   "outputs": [
    {
     "name": "stdout",
     "output_type": "stream",
     "text": [
      "Average RMSE for each param combination:  [0.9039029555248378, 1.0034918987106332, 0.8933141453266312, 1.0076494474507354, 0.8908520744206051, 1.0078349347443398, 0.8997652374608556, 1.0112454031255282, 0.8921953719503092, 1.0079759736084968, 0.8901533032486431, 1.0078614399084613]\n"
     ]
    }
   ],
   "source": [
    "# Get the average cross-validation metrics for each parameter combination\n",
    "avg_metrics = model.avgMetrics\n",
    "# Print the average RMSE for each parameter combination\n",
    "print(\"Average RMSE for each param combination: \", avg_metrics)"
   ]
  },
  {
   "cell_type": "code",
   "execution_count": 25,
   "metadata": {},
   "outputs": [
    {
     "name": "stdout",
     "output_type": "stream",
     "text": [
      "Average RMSE: 0.9513535154566731\n",
      "Minimum RMSE (best parameter combination)=0.8901533032486431\n",
      "Maximum RMSE (worst parameter combination)=1.0112454031255282\n"
     ]
    }
   ],
   "source": [
    "# summarize the RMSE parameter combination \n",
    "# Calculate summary statistics\n",
    "average_rmse = np.mean(avg_metrics)\n",
    "min_rmse = np.min(avg_metrics)\n",
    "max_rmse = np.max(avg_metrics)\n",
    "\n",
    "print(f\"Average RMSE: {average_rmse}\")\n",
    "print(f\"Minimum RMSE (best parameter combination)=\" + str(min_rmse)) \n",
    "print(f\"Maximum RMSE (worst parameter combination)=\" + str(max_rmse))\n"
   ]
  },
  {
   "cell_type": "markdown",
   "metadata": {},
   "source": [
    "The average RMSE across all parameter combinations is 0.9514, indicatng  on average, the error between predicted and actual values is about 0.95 units.\n",
    "The best parameter combination  or the lowest RMSE is 0.8903, indicates that this combination has the lowest prediction  error among all combinations.\n",
    "The worst parameter combination or the highest RMSE is 1.011, indicatates  that this combination has the highest prediction error."
   ]
  },
  {
   "cell_type": "code",
   "execution_count": 26,
   "metadata": {},
   "outputs": [],
   "source": [
    "# Convert rsme to a dataframe \n",
    "# Extract parameter values for each model\n",
    "param_combinations = [(params[als.rank], params[als.regParam]) for params in paramGrid]\n",
    "\n",
    "rmse_df = pd.DataFrame(param_combinations, columns=[\"rank\", \"regParam\"])\n",
    "rmse_df[\"RMSE\"] = avg_metrics\n"
   ]
  },
  {
   "cell_type": "code",
   "execution_count": 27,
   "metadata": {},
   "outputs": [
    {
     "data": {
      "text/plain": [
       "Text(51.0, 0.5, 'rank')"
      ]
     },
     "execution_count": 27,
     "metadata": {},
     "output_type": "execute_result"
    },
    {
     "data": {
      "image/png": "[encoded data removed]",
      "text/plain": [
       "<Figure size 576x432 with 2 Axes>"
      ]
     },
     "metadata": {
      "needs_background": "light"
     },
     "output_type": "display_data"
    }
   ],
   "source": [
    "import seaborn as sns\n",
    "# Visulaize the results\n",
    "aggregated_df = rmse_df.groupby(['rank', 'regParam'], as_index=False).mean()\n",
    "\n",
    "# Pivot the DataFrame for heatmap\n",
    "pivot_df = aggregated_df.pivot(\"rank\", \"regParam\", \"RMSE\")\n",
    "\n",
    "# Create the heatmap\n",
    "plt.figure(figsize=(8, 6))\n",
    "sns.heatmap(pivot_df, annot=True, cmap=\"coolwarm\", fmt=\".6f\")\n",
    "\n",
    "# Customize the plot\n",
    "plt.title(\"Heatmap of RMSE for Different Ranks and regParam Values\")\n",
    "plt.xlabel(\"regParam\")\n",
    "plt.ylabel(\"rank\")"
   ]
  },
  {
   "cell_type": "markdown",
   "metadata": {},
   "source": [
    "# Recommendations \n",
    "\n",
    "Now that the model is tuned, I will use the trained model to predict and recommend movies. "
   ]
  },
  {
   "cell_type": "code",
   "execution_count": 28,
   "metadata": {},
   "outputs": [],
   "source": [
    "# Use the hypertuned model with correct parameters \n",
    "# Initialize ALS with the correct parameters\n",
    "als = ALS(nonnegative=True,\n",
    "                implicitPrefs=False,\n",
    "                coldStartStrategy=\"drop\",\n",
    "                rank=8,\n",
    "                maxIter=15,\n",
    "                regParam=0.2,\n",
    "                userCol=\"userId\",\n",
    "                itemCol=\"movieId\",\n",
    "                ratingCol=\"rating\",\n",
    "                  seed=42)"
   ]
  },
  {
   "cell_type": "markdown",
   "metadata": {},
   "source": [
    "Parameter explained\n",
    "* nonnegative=True: The factorization produces only nonnegative values.\n",
    "* implicitPrefs=False:  the ALS model will be trained using explicit feedback (ratings).\n",
    "* coldStartStrategy=\"drop\": drops predictions for users or items in the test set that do not appear in the training set\n",
    "* rank=8: The number of latent factors in the model.\n",
    "* maxIter=15: The number of iterations to run.\n",
    "* regParam=0.2: The regularization parameter."
   ]
  },
  {
   "cell_type": "code",
   "execution_count": 29,
   "metadata": {},
   "outputs": [],
   "source": [
    "# Fit the final model\n",
    "final_model = als.fit(train_data)"
   ]
  },
  {
   "cell_type": "code",
   "execution_count": 30,
   "metadata": {},
   "outputs": [
    {
     "name": "stdout",
     "output_type": "stream",
     "text": [
      "+------+-------+------+----------+\n",
      "|userId|movieId|rating|prediction|\n",
      "+------+-------+------+----------+\n",
      "|   463|   1088|   3.5| 3.5360005|\n",
      "|   580|   3175|   2.5| 3.4495802|\n",
      "|   580|  44022|   3.5|   3.12542|\n",
      "|   362|   1645|   5.0| 3.7763581|\n",
      "|   597|   1959|   4.0|  4.059897|\n",
      "+------+-------+------+----------+\n",
      "only showing top 5 rows\n",
      "\n"
     ]
    }
   ],
   "source": [
    "# Calculate predictions of the final_model\n",
    "final_pred = final_model.transform(test_data)\n",
    "\n",
    "#Displaying predictions calculated by the model \n",
    "final_pred.show(5)"
   ]
  },
  {
   "cell_type": "code",
   "execution_count": 31,
   "metadata": {},
   "outputs": [
    {
     "name": "stdout",
     "output_type": "stream",
     "text": [
      "+------+--------------------+----------+--------------------+\n",
      "|userId|               title|prediction|              genres|\n",
      "+------+--------------------+----------+--------------------+\n",
      "|   463|Dirty Dancing (1987)| 3.5360005|Drama|Musical|Rom...|\n",
      "|   580| Galaxy Quest (1999)| 3.4495802|Adventure|Comedy|...|\n",
      "|   580|Ice Age 2: The Me...|   3.12542|Adventure|Animati...|\n",
      "|   362|The Devil's Advoc...| 3.7763581|Drama|Mystery|Thr...|\n",
      "|   597|Out of Africa (1985)|  4.059897|       Drama|Romance|\n",
      "+------+--------------------+----------+--------------------+\n",
      "only showing top 5 rows\n",
      "\n"
     ]
    }
   ],
   "source": [
    "# To display title for prediction \n",
    "# Join the ratings_data and movie_data \n",
    "pred=final_pred.join(movies_data, 'movieId').select('userId','title','prediction','genres')\n",
    "pred.show(5)"
   ]
  },
  {
   "cell_type": "markdown",
   "metadata": {},
   "source": [
    "# Evaluation "
   ]
  },
  {
   "cell_type": "code",
   "execution_count": 32,
   "metadata": {},
   "outputs": [
    {
     "name": "stdout",
     "output_type": "stream",
     "text": [
      "+------+-------+------+----------+------------------+\n",
      "|userId|movieId|rating|prediction|              RMSE|\n",
      "+------+-------+------+----------+------------------+\n",
      "|   463|   1088|   3.5| 3.5360005| 0.487734900120663|\n",
      "|   580|   3175|   2.5| 3.4495802|1.1017128881257234|\n",
      "|   580|  44022|   3.5|   3.12542|1.1017128881257234|\n",
      "|   362|   1645|   5.0| 3.7763581|   0.5465907880391|\n",
      "|   597|   1959|   4.0|  4.059897|0.9101306540246756|\n",
      "|   155|   3175|   4.0| 3.5469859|0.9863687417179362|\n",
      "|   368|   2122|   2.0| 2.2189863|0.6386716294134778|\n",
      "|   115|   1645|   4.0| 3.4880972|1.1619022794691902|\n",
      "|   115|   3175|   4.0| 3.6221485|1.1619022794691902|\n",
      "|    28|   1645|   2.5| 2.8079262|0.7904295010181651|\n",
      "|    28|   3175|   1.5| 2.8566742|0.7904295010181651|\n",
      "|   587|   1580|   4.0| 3.6748192|0.7866470210003113|\n",
      "|   332|   1645|   3.5| 3.1721878|0.6258444615155864|\n",
      "|   332|   2366|   3.5| 3.3894088|0.6258444615155864|\n",
      "|   577|   1580|   3.0| 3.2254906|0.7563781533866525|\n",
      "|   577|   1959|   4.0| 3.4746552|0.7563781533866525|\n",
      "|   271|   6658|   2.0|  3.005803|0.8238591520837619|\n",
      "|   606|   1088|   3.0| 3.3860104|0.7318704956636727|\n",
      "|    91|   1580|   3.5| 3.1504633|0.9010161250571247|\n",
      "|    91|   6620|   3.5| 3.4200943|0.9010161250571247|\n",
      "+------+-------+------+----------+------------------+\n",
      "only showing top 20 rows\n",
      "\n"
     ]
    }
   ],
   "source": [
    "#  Model acurracy \n",
    "from pyspark.sql import functions as F\n",
    "from pyspark.sql.functions import sqrt, pow\n",
    "# Calculate RMSE for each user\n",
    "user_rmse = final_pred.groupBy(\"userId\").agg(\n",
    "    sqrt(F.mean(pow(F.col(\"rating\") - F.col(\"prediction\"), 2))).alias(\"RMSE\"))\n",
    "\n",
    "\n",
    "#  Join RMSE back to the original DataFrame\n",
    "predictions_rmse = final_pred.join(user_rmse, on=\"userId\", how=\"left\")\n",
    "\n",
    "# Display the final DataFrame with RMSE included\n",
    "predictions_rmse.show()"
   ]
  },
  {
   "cell_type": "code",
   "execution_count": 33,
   "metadata": {},
   "outputs": [
    {
     "name": "stdout",
     "output_type": "stream",
     "text": [
      "Root Mean Square Error RMSE = 0.8753373355232398\n"
     ]
    }
   ],
   "source": [
    "#Create evaluator for each metric \n",
    "rmse_evaluator = RegressionEvaluator(metricName=\"rmse\", labelCol=\"rating\",predictionCol=\"prediction\") \n",
    "\n",
    "\n",
    "# Calculate the metrics\n",
    "rmse = rmse_evaluator.evaluate(final_pred)\n",
    "\n",
    "# Print the results\n",
    "print(\"Root Mean Square Error RMSE = \" + str(rmse))\n"
   ]
  },
  {
   "cell_type": "markdown",
   "metadata": {},
   "source": [
    "### Model's Prediction Acurracy\n",
    "\n",
    "* The model is performing well for most users, with RMSE values below 1.0, indicative of fairly accurate predictions.\n",
    "* Users with lower RMSE (e.g., User 463) seem to have more accurate predictions, suggesting their behavior is better captured by the model.\n",
    "* Higher RMSE indicates that user (e,g., user 362 ) may have less predictable behavior, or the model might need better tuning for this specific case.\n",
    "* The average RMSE of the predictions is 0.8753 a slight improvement from the baseline model of 0.8813\n"
   ]
  },
  {
   "cell_type": "markdown",
   "metadata": {},
   "source": [
    "# Develop Recommendations\n",
    "\n",
    "To address the business problem, the recommendation system will be designed to:\n",
    "\n",
    "* Generate the top 5 recommended movies for each user\n",
    "* Generate the top 5 recommended users for each movie"
   ]
  },
  {
   "cell_type": "code",
   "execution_count": 34,
   "metadata": {},
   "outputs": [
    {
     "name": "stdout",
     "output_type": "stream",
     "text": [
      "+------+--------------------+\n",
      "|userId|     recommendations|\n",
      "+------+--------------------+\n",
      "|     1|[{96004, 6.027355...|\n",
      "|     2|[{141718, 4.86681...|\n",
      "|     3|[{6835, 4.7739754...|\n",
      "|     4|[{3851, 4.7564926...|\n",
      "|     5|[{132333, 4.90103...|\n",
      "+------+--------------------+\n",
      "only showing top 5 rows\n",
      "\n"
     ]
    }
   ],
   "source": [
    "# Top 5 recommended movies  for each users \n",
    "userRecommend = final_model.recommendForAllUsers(5)\n",
    "userRecommend.show(5)"
   ]
  },
  {
   "cell_type": "markdown",
   "metadata": {},
   "source": [
    "Predictions are greater than the rating scale.  this is due to the nature of matrix factorization and the lack of model's constraints to the original ratings scale. To address and improve explainability the ratings values will be restricted to the original rating scale. "
   ]
  },
  {
   "cell_type": "code",
   "execution_count": 35,
   "metadata": {},
   "outputs": [
    {
     "name": "stdout",
     "output_type": "stream",
     "text": [
      "+------+-------+-----------+\n",
      "|userId|movieId|pred_rating|\n",
      "+------+-------+-----------+\n",
      "|     1|  96004|        5.0|\n",
      "|     1|   3379|        5.0|\n",
      "|     1| 132333|        5.0|\n",
      "|     1| 141718|        5.0|\n",
      "|     1|  60943|        5.0|\n",
      "+------+-------+-----------+\n",
      "only showing top 5 rows\n",
      "\n"
     ]
    }
   ],
   "source": [
    "from pyspark.sql.functions import explode,col, when\n",
    "# Explode the recommendations array into individual rows\n",
    "exploded_rec = userRecommend.withColumn(\"recommendation\", explode(\"recommendations\"))\n",
    "\n",
    "# Select the userId, movieId, and rating from the exploded DataFrame\n",
    "exploded_rec = exploded_rec.select(\n",
    "    col(\"userId\"),\n",
    "    col(\"recommendation.movieId\").alias(\"movieId\"),\n",
    "    col(\"recommendation.rating\").alias(\"pred_rating\"))\n",
    "\n",
    "# Restrict predicted ratings to be between 0 and 5\n",
    "exploded_rec = exploded_rec.withColumn(\n",
    "    \"pred_rating\", \n",
    "    when(col(\"pred_rating\") > 5, 5).otherwise(col(\"pred_rating\")))\n",
    "exploded_rec.show(5)\n",
    "\n"
   ]
  },
  {
   "cell_type": "markdown",
   "metadata": {},
   "source": [
    "Improve readability\n",
    "\n",
    "The predictions lack interpretability and should therefore be transformed into a more understandable format. The movies dataset will be utilized to enhance readability."
   ]
  },
  {
   "cell_type": "code",
   "execution_count": 36,
   "metadata": {},
   "outputs": [
    {
     "name": "stdout",
     "output_type": "stream",
     "text": [
      "+------+-----------------------------------------------------------------------------------------------------------------------------+-----------+\n",
      "|userId|title                                                                                                                        |pred_rating|\n",
      "+------+-----------------------------------------------------------------------------------------------------------------------------+-----------+\n",
      "|1     |Dragon Ball Z: The History of Trunks (Doragon bôru Z: Zetsubô e no hankô!! Nokosareta chô senshi - Gohan to Torankusu) (1993)|5.0        |\n",
      "|1     |On the Beach (1959)                                                                                                          |5.0        |\n",
      "|1     |Seve (2014)                                                                                                                  |5.0        |\n",
      "|1     |Deathgasm (2015)                                                                                                             |5.0        |\n",
      "|1     |Frozen River (2008)                                                                                                          |5.0        |\n",
      "+------+-----------------------------------------------------------------------------------------------------------------------------+-----------+\n",
      "only showing top 5 rows\n",
      "\n"
     ]
    }
   ],
   "source": [
    "#Improving the Readability\n",
    "final_rec = exploded_rec.join(movies_data, \"movieId\")\n",
    "#Select the necessary columns\n",
    "final_rec = final_rec.select(\n",
    "    col(\"userId\"),\n",
    "    col(\"title\"),\n",
    "    col(\"pred_rating\"))\n",
    "    \n",
    "final_rec.show(5, truncate=False)"
   ]
  },
  {
   "cell_type": "markdown",
   "metadata": {},
   "source": [
    "# Evaluate Accuracy of Top 5 Movies Recommended for Each User\n",
    "\n",
    "In addition to RMSE, the Precision@K evaluation metric will be used to assess the accuracy. This metric compares the relevance of the top 5 recommended movies to a set of relevant movies for each user (ground truth)."
   ]
  },
  {
   "cell_type": "code",
   "execution_count": 37,
   "metadata": {},
   "outputs": [
    {
     "name": "stdout",
     "output_type": "stream",
     "text": [
      "+------+-------+------+-----------+\n",
      "|userId|movieId|rating|pred_rating|\n",
      "+------+-------+------+-----------+\n",
      "|     3|   6835|   5.0|  4.7739754|\n",
      "|     3|   5746|   5.0|  4.7739754|\n",
      "|     3|   5181|   5.0|   4.630731|\n",
      "|     3|   4518|   5.0|   4.447957|\n",
      "|     3|   7899|   4.5|   4.296578|\n",
      "+------+-------+------+-----------+\n",
      "only showing top 5 rows\n",
      "\n"
     ]
    }
   ],
   "source": [
    "#Join the actual ratings with the predicted ratings\n",
    "ratings_with_predictions = ratings_df.join(exploded_rec, on=[\"userId\", \"movieId\"])\n",
    "\n",
    "# Show the DataFrame with actual ratings and predictions\n",
    "ratings_with_predictions.show(5)"
   ]
  },
  {
   "cell_type": "code",
   "execution_count": 38,
   "metadata": {},
   "outputs": [
    {
     "name": "stdout",
     "output_type": "stream",
     "text": [
      " Top 5 movies recommendation for each user Root Mean Square Error RMSE = 0.44641961507467764\n"
     ]
    }
   ],
   "source": [
    "#Create evaluator for each metric \n",
    "rmse_evaluator = RegressionEvaluator(metricName=\"rmse\", labelCol=\"rating\",predictionCol=\"pred_rating\") \n",
    "\n",
    "# Calculate the metrics\n",
    "rmse = rmse_evaluator.evaluate(ratings_with_predictions )\n",
    "\n",
    "# Print the results\n",
    "print(\" Top 5 movies recommendation for each user Root Mean Square Error RMSE = \" + str(rmse))"
   ]
  },
  {
   "cell_type": "code",
   "execution_count": 39,
   "metadata": {},
   "outputs": [
    {
     "name": "stdout",
     "output_type": "stream",
     "text": [
      "+------+-------+------+-----------+-----------+\n",
      "|userId|movieId|rating|pred_rating|is_relevant|\n",
      "+------+-------+------+-----------+-----------+\n",
      "|     3|   6835|   5.0|  4.7739754|          1|\n",
      "|     3|   5746|   5.0|  4.7739754|          1|\n",
      "|     3|   5181|   5.0|   4.630731|          1|\n",
      "|     3|   4518|   5.0|   4.447957|          0|\n",
      "|     3|   7899|   4.5|   4.296578|          0|\n",
      "+------+-------+------+-----------+-----------+\n",
      "only showing top 5 rows\n",
      "\n"
     ]
    }
   ],
   "source": [
    "from pyspark.sql.functions import when, sum, count\n",
    "\n",
    "# Set relevance as items with predicted rating >= 4.5\n",
    "ratings_with_predictions = ratings_with_predictions.withColumn(\"is_relevant\", when(col(\"pred_rating\") >= 4.5, 1).otherwise(0))\n",
    "\n",
    "ratings_with_predictions.show(5)\n"
   ]
  },
  {
   "cell_type": "code",
   "execution_count": 40,
   "metadata": {},
   "outputs": [
    {
     "name": "stdout",
     "output_type": "stream",
     "text": [
      "+------+--------------+\n",
      "|userId|precision_at_k|\n",
      "+------+--------------+\n",
      "|   516|           1.0|\n",
      "|   255|           0.0|\n",
      "|    28|           0.0|\n",
      "|   596|           1.0|\n",
      "|    76|           0.0|\n",
      "+------+--------------+\n",
      "only showing top 5 rows\n",
      "\n"
     ]
    }
   ],
   "source": [
    "# Calculate Precision@K for each user\n",
    "precision_at_k = ratings_with_predictions.groupBy(\"userId\") \\\n",
    "    .agg((sum(\"is_relevant\") / count(\"movieId\")).alias(\"precision_at_k\"))\n",
    "\n",
    "precision_at_k.show(5)\n"
   ]
  },
  {
   "cell_type": "code",
   "execution_count": 41,
   "metadata": {
    "scrolled": true
   },
   "outputs": [
    {
     "name": "stdout",
     "output_type": "stream",
     "text": [
      "Average Precision@K across all users with 4.5 relevance: 0.6614035087719298\n"
     ]
    }
   ],
   "source": [
    "from pyspark.sql.functions import avg\n",
    "\n",
    "# Calculate the average Precision@K across all users\n",
    "avg_precision_at_k = precision_at_k.agg(avg(\"precision_at_k\").alias(\"avg_precision_at_k\")).collect()[0][0]\n",
    "\n",
    "print(f\"Average Precision@K across all users with 4.5 relevance: {avg_precision_at_k}\")"
   ]
  },
  {
   "cell_type": "code",
   "execution_count": 42,
   "metadata": {},
   "outputs": [
    {
     "name": "stdout",
     "output_type": "stream",
     "text": [
      "Average Precision@K across all users with 4.0 relevance: 0.8763157894736842\n"
     ]
    }
   ],
   "source": [
    "# Calculate Precsion@K with a lenient  threshold\n",
    "\n",
    "# Set relevance as movies with predicted rating >= 4.0\n",
    "ratings_with_predictions = ratings_with_predictions.withColumn(\"is_relevant\", when(col(\"pred_rating\") >= 4.0, 1).otherwise(0))\n",
    "\n",
    "\n",
    "# Calculate Precision@K for each user\n",
    "precision_at_k = ratings_with_predictions.groupBy(\"userId\") \\\n",
    "    .agg((sum(\"is_relevant\") / count(\"movieId\")).alias(\"precision_at_k\"))\n",
    "\n",
    "\n",
    "# Calculate the average Precision@K across all users\n",
    "avg_precision_at_k = precision_at_k.agg(avg(\"precision_at_k\").alias(\"avg_precision_at_k\")).collect()[0][0]\n",
    "\n",
    "print(f\"Average Precision@K across all users with 4.0 relevance: {avg_precision_at_k}\")"
   ]
  },
  {
   "cell_type": "markdown",
   "metadata": {},
   "source": [
    "\n",
    "# Model Predicted Ratings and Evaluation for Top 5 Movies per User\n",
    "\n",
    "Top 5 movies recommendation  per user, Root Mean Square Error (RMSE) = 0.4464.  \n",
    "\n",
    "The RMSE value of 0.4464 indicates that:\n",
    "* The predicted ratings deviate from the actual ratings by approximately 0.45 units.This means the predicted rating for 4 is around 4 ± 0.45.\n",
    "* The model is performing well and recommending  relevant movies with the predicted ratings  close to what the users might actually rate the movies.\n",
    "\n",
    "Average Precision@K across all users:\n",
    "\n",
    "* With a 4.5 relevance threshold: 0.6614\n",
    "* With a 4.0 relevance threshold: 0.8763\n",
    "\n",
    "Precision@K evaluates how many of the top K recommended items are actually relevant, averaged across all users. \n",
    "\n",
    "A score of 0.66 for a 4.5 relevance threshold means:\n",
    "*  66% of the top 5 recommended movies for each user are considered relevant based on the ground truth( actual rating).\n",
    "* 66% of the top K recommended movies are considered relevant when the predicted rating is  >= 4.5.\n",
    "* Recommendation system is performing well in identifying relevant movies.\n",
    "\n",
    "With a less conservative  4.0 relevance threshold,  Average Precision@K across all users is  0.8763. The less restrictive threshold indicated the 87% of the top movies recommended are considered relevant or liked/enjoyed by the user at this lower threshold.\n",
    "\n"
   ]
  },
  {
   "cell_type": "markdown",
   "metadata": {},
   "source": [
    "# Top k (5) users recommendations for each movie"
   ]
  },
  {
   "cell_type": "code",
   "execution_count": 43,
   "metadata": {},
   "outputs": [
    {
     "name": "stdout",
     "output_type": "stream",
     "text": [
      "+-------+--------------------+\n",
      "|movieId|     recommendations|\n",
      "+-------+--------------------+\n",
      "|     12|[{53, 3.548811}, ...|\n",
      "|     26|[{53, 4.6274834},...|\n",
      "|     27|[{53, 4.2163386},...|\n",
      "|     28|[{53, 5.1923447},...|\n",
      "|     31|[{43, 4.30455}, {...|\n",
      "+-------+--------------------+\n",
      "only showing top 5 rows\n",
      "\n"
     ]
    }
   ],
   "source": [
    "## Generate top 5 user recommendations for each movie\n",
    "movieRecommend = final_model.recommendForAllItems(5)\n",
    "movieRecommend.show(5)"
   ]
  },
  {
   "cell_type": "code",
   "execution_count": 44,
   "metadata": {},
   "outputs": [
    {
     "name": "stdout",
     "output_type": "stream",
     "text": [
      "+-------+------+-----------+\n",
      "|movieId|userId|pred_rating|\n",
      "+-------+------+-----------+\n",
      "|     12|    53|   3.548811|\n",
      "|     12|   558|  3.3245075|\n",
      "|     12|   327|  3.2381494|\n",
      "|     12|   371|  3.0953596|\n",
      "|     12|   276|  3.0835876|\n",
      "+-------+------+-----------+\n",
      "only showing top 5 rows\n",
      "\n"
     ]
    }
   ],
   "source": [
    "# Explode the recommendations array into individual rows\n",
    "exploded_rec_mov = movieRecommend.withColumn(\"recommendation\", explode(\"recommendations\"))\n",
    "\n",
    "# Select the userId, movieId, and rating from the exploded DataFrame\n",
    "exploded_rec_mov = exploded_rec_mov.select(\n",
    "    col(\"movieId\"),\n",
    "    col(\"recommendation.userId\").alias(\"userId\"),\n",
    "    col(\"recommendation.rating\").alias(\"pred_rating\"))\n",
    "\n",
    "# Restrict predicted ratings to be between 0 and 5\n",
    "exploded_rec_mov = exploded_rec_mov.withColumn(\n",
    "    \"pred_rating\", \n",
    "    when(col(\"pred_rating\") > 5, 5).otherwise(col(\"pred_rating\")))\n",
    "exploded_rec_mov.show(5)"
   ]
  },
  {
   "cell_type": "code",
   "execution_count": 45,
   "metadata": {},
   "outputs": [
    {
     "name": "stdout",
     "output_type": "stream",
     "text": [
      "+------+----------------------------------+-----------+\n",
      "|userId|title                             |pred_rating|\n",
      "+------+----------------------------------+-----------+\n",
      "|53    |Dracula: Dead and Loving It (1995)|3.548811   |\n",
      "|558   |Dracula: Dead and Loving It (1995)|3.3245075  |\n",
      "|327   |Dracula: Dead and Loving It (1995)|3.2381494  |\n",
      "|371   |Dracula: Dead and Loving It (1995)|3.0953596  |\n",
      "|276   |Dracula: Dead and Loving It (1995)|3.0835876  |\n",
      "+------+----------------------------------+-----------+\n",
      "only showing top 5 rows\n",
      "\n"
     ]
    }
   ],
   "source": [
    "#Improving the Readability\n",
    "movie_rec = exploded_rec_mov.join(movies_data, \"movieId\")\n",
    "#Select the necessary columns\n",
    "movie_rec = movie_rec.select(\n",
    "    col(\"userId\"),\n",
    "    col(\"title\"),\n",
    "    col(\"pred_rating\"))\n",
    "    \n",
    "movie_rec.show(5, truncate=False)"
   ]
  },
  {
   "cell_type": "markdown",
   "metadata": {},
   "source": [
    "# Evaluate accuracy top 5 users recommendation  for each movie"
   ]
  },
  {
   "cell_type": "code",
   "execution_count": 46,
   "metadata": {},
   "outputs": [
    {
     "name": "stdout",
     "output_type": "stream",
     "text": [
      "+------+-------+------+-----------+\n",
      "|userId|movieId|rating|pred_rating|\n",
      "+------+-------+------+-----------+\n",
      "|   276|     12|   4.0|  3.0835876|\n",
      "|   337|     27|   5.0|  4.1199965|\n",
      "|    43|     34|   5.0|  4.5032105|\n",
      "|    93|     34|   5.0|    4.30086|\n",
      "|   243|     44|   4.0|  3.2098145|\n",
      "+------+-------+------+-----------+\n",
      "only showing top 5 rows\n",
      "\n"
     ]
    }
   ],
   "source": [
    "#join the actual ratings with the predicted ratings\n",
    "ratings_with_predictions = ratings_df.join(exploded_rec_mov, on=[\"userId\", \"movieId\"])\n",
    "\n",
    "# Show the DataFrame with actual ratings and predictions\n",
    "ratings_with_predictions.show(5)"
   ]
  },
  {
   "cell_type": "code",
   "execution_count": 47,
   "metadata": {},
   "outputs": [
    {
     "name": "stdout",
     "output_type": "stream",
     "text": [
      " Top 5 users recommendation  for each movie Root Mean Square Error RMSE = 0.6255810663017815\n"
     ]
    }
   ],
   "source": [
    "#Create evaluator for each metric \n",
    "rmse_evaluator = RegressionEvaluator(metricName=\"rmse\", labelCol=\"rating\",predictionCol=\"pred_rating\") \n",
    "\n",
    "# Calculate the metrics\n",
    "rmse = rmse_evaluator.evaluate(ratings_with_predictions)\n",
    "\n",
    "# Print the results\n",
    "print(\" Top 5 users recommendation  for each movie Root Mean Square Error RMSE = \" + str(rmse))"
   ]
  },
  {
   "cell_type": "code",
   "execution_count": 48,
   "metadata": {},
   "outputs": [
    {
     "name": "stdout",
     "output_type": "stream",
     "text": [
      "+------+-------+------+-----------+-----------+\n",
      "|userId|movieId|rating|pred_rating|is_relevant|\n",
      "+------+-------+------+-----------+-----------+\n",
      "|   276|     12|   4.0|  3.0835876|          0|\n",
      "|   337|     27|   5.0|  4.1199965|          0|\n",
      "|    43|     34|   5.0|  4.5032105|          1|\n",
      "|    93|     34|   5.0|    4.30086|          0|\n",
      "|   243|     44|   4.0|  3.2098145|          0|\n",
      "+------+-------+------+-----------+-----------+\n",
      "only showing top 5 rows\n",
      "\n",
      "Average Precision@K across all movies with 4.5 relevance: 0.2830076968620485\n"
     ]
    }
   ],
   "source": [
    "# Evalaute Precision@K\n",
    "# Calculate Precsion@K with a conservative threshold\n",
    "\n",
    "# Define relevance as users with predicted rating >= 4.5\n",
    "ratings_with_predictions = ratings_with_predictions.withColumn(\"is_relevant\", when(col(\"pred_rating\") >= 4.5, 1).otherwise(0))\n",
    "ratings_with_predictions.show(5)\n",
    "\n",
    "# Calculate Precision@K for each movies\n",
    "precision_at_k = ratings_with_predictions.groupBy(\"movieId\") \\\n",
    "    .agg((sum(\"is_relevant\") / count(\"userId\")).alias(\"precision_at_k\"))\n",
    "\n",
    "\n",
    "# Calculate the average Precision@K across all movies\n",
    "avg_precision_at_k = precision_at_k.agg(avg(\"precision_at_k\").alias(\"avg_precision_at_k\")).collect()[0][0]\n",
    "\n",
    "print(f\"Average Precision@K across all movies with 4.5 relevance: {avg_precision_at_k}\")"
   ]
  },
  {
   "cell_type": "code",
   "execution_count": 49,
   "metadata": {},
   "outputs": [
    {
     "name": "stdout",
     "output_type": "stream",
     "text": [
      "Average Precision@K across all movies with 4.0 relevance: 0.5944345766725874\n"
     ]
    }
   ],
   "source": [
    "# Calculate Precsion@K with a lenient threshold\n",
    "\n",
    "# Set relevance as items with predicted rating >= 4.0\n",
    "ratings_with_predictions = ratings_with_predictions.withColumn(\"is_relevant\", when(col(\"pred_rating\") >= 4.0, 1).otherwise(0))\n",
    "\n",
    "\n",
    "# Calculate Precision@K for each user\n",
    "precision_at_k = ratings_with_predictions.groupBy(\"movieId\") \\\n",
    "    .agg((sum(\"is_relevant\") / count(\"userId\")).alias(\"precision_at_k\"))\n",
    "\n",
    "\n",
    "# Calculate the average Precision@K across all users\n",
    "avg_precision_at_k = precision_at_k.agg(avg(\"precision_at_k\").alias(\"avg_precision_at_k\")).collect()[0][0]\n",
    "\n",
    "print(f\"Average Precision@K across all movies with 4.0 relevance: {avg_precision_at_k}\")"
   ]
  },
  {
   "cell_type": "markdown",
   "metadata": {},
   "source": [
    "# Model Predicted Ratings and Evaluation for Top 5 Users per Movie \n",
    "\n",
    "Top 5 users recommendation  for each movie Root Mean Square Error (RMSE) = 0.6255\n",
    "\n",
    "The RMSE value of  0.6255 implies:\n",
    "* For a movie with higher actual user rating of 4.0, the model’s prediction will likely be between 3.37 and 4.63.\n",
    "* For a movie with an actual rating of 2.0, the model's prediction will likely fall between 1.37 and 2.63.\n",
    "* Small average differences (0.63 units) suggest that the model is approximating user ratings\n",
    "\n",
    "Average Precision@K across all movies:\n",
    "\n",
    "*  With 4.5 relevance: 0.2830\n",
    "*  With 4.0 relevance: 0.5944\n",
    "\n",
    "Stricter Threshold (4.5) :\n",
    "* Precision@K = 0.28 at 4.5 relevance: The stricter threshold results in lower precision because fewer users rate movies ≥ 4.5. This suggests that model is making recommendations, fewer of the recommendations are meeting the top preference level.\n",
    "\n",
    "Lenient Threshold (4.0)\n",
    "* Precision@K = 0.59 at 4.0 relevance: \n",
    "* The system performs much better with a threshold of 4.0, where more users are satisfied with the recommendations, finding them moderately enjoyable\n",
    "\n",
    " The 4.5  relevance threshold is more useful when the focus is on recommending movies that users will love, not just like,  ensures strong relevance but at the cost of precision.\n",
    "\n",
    "The 4.0 relevance threshold, being more lenient, captures a broader range of user satisfaction, resulting in higher precision, as more users find the recommendations enjoyable.\n"
   ]
  },
  {
   "cell_type": "markdown",
   "metadata": {},
   "source": [
    "# Proof of concept \n",
    "To demonstrate that the recommendation system functions a subset of user will be used as well as a subset of movies. Accuracy will be tested and compared. \n"
   ]
  },
  {
   "cell_type": "code",
   "execution_count": 71,
   "metadata": {},
   "outputs": [
    {
     "name": "stdout",
     "output_type": "stream",
     "text": [
      "+------+\n",
      "|userId|\n",
      "+------+\n",
      "|   148|\n",
      "|   463|\n",
      "|   471|\n",
      "|   496|\n",
      "|   243|\n",
      "|   392|\n",
      "|   540|\n",
      "|    31|\n",
      "|   516|\n",
      "|    85|\n",
      "|   137|\n",
      "|   251|\n",
      "|   451|\n",
      "|   580|\n",
      "|    65|\n",
      "|   458|\n",
      "|    53|\n",
      "|   255|\n",
      "|   481|\n",
      "|   588|\n",
      "+------+\n",
      "\n"
     ]
    }
   ],
   "source": [
    "# select 20 distinct user and recommend 5 movies to each \n",
    "# Select subset of users (20) \n",
    "users= ratings_df.select('userId').distinct(). limit(20)\n",
    "users.show()"
   ]
  },
  {
   "cell_type": "code",
   "execution_count": 72,
   "metadata": {},
   "outputs": [
    {
     "name": "stdout",
     "output_type": "stream",
     "text": [
      "+------+-------+-----------+\n",
      "|userId|movieId|pred_rating|\n",
      "+------+-------+-----------+\n",
      "|   540|  96004|        5.0|\n",
      "|   540|   3379|        5.0|\n",
      "|   540|  60943|        5.0|\n",
      "|   540|  59018|        5.0|\n",
      "|   540| 141718|        5.0|\n",
      "+------+-------+-----------+\n",
      "only showing top 5 rows\n",
      "\n"
     ]
    }
   ],
   "source": [
    "# Recommend 5 movies to each user in the subset\n",
    "userSubsetRec= final_model.recommendForUserSubset(users,5)\n",
    "# Explode the recommendations array into individual rows\n",
    "exploded_rec_user = userSubsetRec.withColumn(\"recommendation\", explode(\"recommendations\"))\n",
    "\n",
    "# Select the userId, movieId, and rating from the exploded DataFrame\n",
    "exploded_rec_user = exploded_rec_user.select(\n",
    "    col(\"userId\"),\n",
    "    col(\"recommendation.movieId\").alias(\"movieId\"),\n",
    "    col(\"recommendation.rating\").alias(\"pred_rating\"))\n",
    "\n",
    "# Restrict predicted ratings to be between 0 and 5\n",
    "exploded_rec_user = exploded_rec_user.withColumn(\n",
    "    \"pred_rating\", \n",
    "    when(col(\"pred_rating\") > 5, 5).otherwise(col(\"pred_rating\")))\n",
    "exploded_rec_user.show(5)"
   ]
  },
  {
   "cell_type": "code",
   "execution_count": 73,
   "metadata": {},
   "outputs": [
    {
     "name": "stdout",
     "output_type": "stream",
     "text": [
      "+------+-----------------------------------------------------------------------------------------------------------------------------+-----------+\n",
      "|userId|title                                                                                                                        |pred_rating|\n",
      "+------+-----------------------------------------------------------------------------------------------------------------------------+-----------+\n",
      "|540   |Dragon Ball Z: The History of Trunks (Doragon bôru Z: Zetsubô e no hankô!! Nokosareta chô senshi - Gohan to Torankusu) (1993)|5.0        |\n",
      "|540   |On the Beach (1959)                                                                                                          |5.0        |\n",
      "|540   |Frozen River (2008)                                                                                                          |5.0        |\n",
      "|540   |Visitor, The (2007)                                                                                                          |5.0        |\n",
      "|540   |Deathgasm (2015)                                                                                                             |5.0        |\n",
      "+------+-----------------------------------------------------------------------------------------------------------------------------+-----------+\n",
      "only showing top 5 rows\n",
      "\n"
     ]
    }
   ],
   "source": [
    "#Improving the Readability\n",
    "distinct_user_rec = exploded_rec_user.join(movies_data, \"movieId\")\n",
    "#Select the necessary columns\n",
    "distinct_user_rec  = distinct_user_rec .select(\n",
    "    col(\"userId\"),\n",
    "    col(\"title\"),\n",
    "    col(\"pred_rating\"))\n",
    "    \n",
    "distinct_user_rec.show(5, truncate=False)"
   ]
  },
  {
   "cell_type": "code",
   "execution_count": 74,
   "metadata": {},
   "outputs": [
    {
     "name": "stdout",
     "output_type": "stream",
     "text": [
      "root\n",
      " |-- userId: integer (nullable = false)\n",
      " |-- movieId: integer (nullable = true)\n",
      " |-- pred_rating: float (nullable = true)\n",
      "\n"
     ]
    }
   ],
   "source": [
    "exploded_rec_user.printSchema()"
   ]
  },
  {
   "cell_type": "code",
   "execution_count": 75,
   "metadata": {},
   "outputs": [
    {
     "name": "stdout",
     "output_type": "stream",
     "text": [
      "+------+-------+-----------+------+\n",
      "|userId|movieId|pred_rating|rating|\n",
      "+------+-------+-----------+------+\n",
      "|   255|   1739|  3.7659633|   4.0|\n",
      "|   516|   4429|  4.7330747|   5.0|\n",
      "+------+-------+-----------+------+\n",
      "\n",
      "+------+-------+-----------+------+\n",
      "|userId|movieId|pred_rating|rating|\n",
      "+------+-------+-----------+------+\n",
      "|   540|  96004|        5.0|  NULL|\n",
      "|   540|   3379|        5.0|  NULL|\n",
      "|   540|  60943|        5.0|  NULL|\n",
      "|   540|  59018|        5.0|  NULL|\n",
      "|   540| 141718|        5.0|  NULL|\n",
      "+------+-------+-----------+------+\n",
      "only showing top 5 rows\n",
      "\n"
     ]
    }
   ],
   "source": [
    "# Evaluate the accuracy \n",
    "# Join distinct users with actual ratings DataFrame\n",
    "user_actual_ratings = users.join(ratings_df, on=\"userId\", how=\"right\")\n",
    "\n",
    "#join the actual ratings for distinct users with the predicted ratings\n",
    "ratings_with_predictions = exploded_rec_user.join(user_actual_ratings, on=[\"userId\", 'movieId'], how = 'left')\n",
    "ratings_with_pred = ratings_with_predictions.filter(col(\"rating\").isNotNull())\n",
    "ratings_with_pred.show()\n",
    "\n",
    "# Show the DataFrame with actual ratings and predictions\n",
    "ratings_with_predictions.show(5)"
   ]
  },
  {
   "cell_type": "code",
   "execution_count": 76,
   "metadata": {},
   "outputs": [
    {
     "name": "stdout",
     "output_type": "stream",
     "text": [
      " Recommend  5 distinct movies to  20  users ,  Root Mean Square Error RMSE = 0.25102022219574527\n"
     ]
    }
   ],
   "source": [
    "#Create evaluator for each metric \n",
    "rmse_evaluator = RegressionEvaluator(metricName=\"rmse\", labelCol=\"rating\",predictionCol=\"pred_rating\") \n",
    "\n",
    "# Calculate the metrics\n",
    "rmse = rmse_evaluator.evaluate(ratings_with_pred) \n",
    "\n",
    "# Print the results\n",
    "print(\" Recommend  5 distinct movies to  20  users ,  Root Mean Square Error RMSE = \" + str(rmse))"
   ]
  },
  {
   "cell_type": "code",
   "execution_count": 55,
   "metadata": {
    "scrolled": false
   },
   "outputs": [
    {
     "name": "stdout",
     "output_type": "stream",
     "text": [
      "+------+--------------+\n",
      "|userId|precision_at_k|\n",
      "+------+--------------+\n",
      "|   471|           1.0|\n",
      "|   463|           1.0|\n",
      "|   496|           1.0|\n",
      "|   148|           0.8|\n",
      "|   540|           1.0|\n",
      "+------+--------------+\n",
      "only showing top 5 rows\n",
      "\n",
      "Average Precision@K across distinct users with 4.5 relevance: 0.8400000000000001\n"
     ]
    }
   ],
   "source": [
    "# Calculate Precsion@K with a conservative threshold\n",
    "\n",
    "# Set relevance as items with predicted rating >= 4.5\n",
    "exploded_rec_user= exploded_rec_user.withColumn(\"is_relevant\", when(col(\"pred_rating\") >= 4.5, 1).otherwise(0))\n",
    "\n",
    "# Calculate Precision@K for each user\n",
    "precision_at_k =exploded_rec_user.groupBy(\"userId\") \\\n",
    "    .agg((sum(\"is_relevant\") / count(\"movieId\")).alias(\"precision_at_k\"))\n",
    "\n",
    "precision_at_k .show(5)\n",
    "# Calculate the average Precision@K across all users\n",
    "avg_precision_at_k = precision_at_k.agg(avg(\"precision_at_k\").alias(\"avg_precision_at_k\")).collect()[0][0]\n",
    "\n",
    "print(f\"Average Precision@K across distinct users with 4.5 relevance: {avg_precision_at_k}\")"
   ]
  },
  {
   "cell_type": "code",
   "execution_count": 56,
   "metadata": {},
   "outputs": [
    {
     "name": "stdout",
     "output_type": "stream",
     "text": [
      "+------+--------------+\n",
      "|userId|precision_at_k|\n",
      "+------+--------------+\n",
      "|   471|           1.0|\n",
      "|   463|           1.0|\n",
      "|   496|           1.0|\n",
      "|   148|           1.0|\n",
      "|   540|           1.0|\n",
      "+------+--------------+\n",
      "only showing top 5 rows\n",
      "\n",
      "Average Precision@K across distinct users with 4.0 relevance: 0.96\n"
     ]
    }
   ],
   "source": [
    "# Calculate Precsion@K with a lenient threshold\n",
    "\n",
    "# Set relevance as items with predicted rating >= 4.0\n",
    "exploded_rec_user= exploded_rec_user.withColumn(\"is_relevant\", when(col(\"pred_rating\") >= 4.0, 1).otherwise(0))\n",
    "\n",
    "# Calculate Precision@K for each user\n",
    "precision_at_k =exploded_rec_user.groupBy(\"userId\") \\\n",
    "    .agg((sum(\"is_relevant\") / count(\"movieId\")).alias(\"precision_at_k\"))\n",
    "\n",
    "precision_at_k .show(5)\n",
    "# Calculate the average Precision@K across all users\n",
    "avg_precision_at_k = precision_at_k.agg(avg(\"precision_at_k\").alias(\"avg_precision_at_k\")).collect()[0][0]\n",
    "\n",
    "print(f\"Average Precision@K across distinct users with 4.0 relevance: {avg_precision_at_k}\")"
   ]
  },
  {
   "cell_type": "markdown",
   "metadata": {},
   "source": [
    "# Evaluation  of Recommend 5 movies to 20 distinct users\n",
    "\n",
    "The recommendation system was evaluated by recommending 5 movies to 20 distinct users.\n",
    "\n",
    " *  Root Mean Square Error RMSE = 0.25102022219574527\n",
    "Indicates that the predicted ratings deviate from the actual ratings by a small margin of 0.25 units.\n",
    "This suggests that the model is performing very well in predicting user preferences for the selected group of users and movies.\n",
    "\n",
    "Average Precision@K across distinct users:\n",
    "\n",
    "* With 4.5 relevance: 0.840\n",
    "This shows that 84% of the top 5 recommended movies for each distinct user are considered highly relevant, based on a 4.5 rating threshold.\n",
    "\n",
    "* With 4.0 relevance: 0.96\n",
    "At a more lenient threshold, 96% of the recommended movies are considered relevant, meaning the recommendations closely match users' preferences when a 4.0 threshold is applied.\n",
    "\n",
    "These metrics indicate that the recommendation system is highly effective at predicting and recommending relevant movies to users."
   ]
  },
  {
   "cell_type": "markdown",
   "metadata": {},
   "source": [
    " # Generate  top 5 users recommendation for  distinct list of  movies"
   ]
  },
  {
   "cell_type": "code",
   "execution_count": 57,
   "metadata": {},
   "outputs": [
    {
     "name": "stdout",
     "output_type": "stream",
     "text": [
      "+-------+\n",
      "|movieId|\n",
      "+-------+\n",
      "|   1580|\n",
      "|   2366|\n",
      "|   3175|\n",
      "|   1088|\n",
      "|  32460|\n",
      "+-------+\n",
      "\n",
      "+-------+--------------------+\n",
      "|movieId|     recommendations|\n",
      "+-------+--------------------+\n",
      "|   1580|[{53, 4.769583}, ...|\n",
      "|  32460|[{53, 5.7376423},...|\n",
      "|   3175|[{53, 4.993491}, ...|\n",
      "|   2366|[{53, 4.57324}, {...|\n",
      "|   1088|[{53, 4.7646923},...|\n",
      "+-------+--------------------+\n",
      "\n"
     ]
    }
   ],
   "source": [
    "# Select subset of movies (5)\n",
    "movies= ratings_df.select('movieId').distinct(). limit(5)\n",
    "movies.show()\n",
    "# generate  top 5 users recommendation for list of random movies \n",
    "movieSubsetRec= final_model.recommendForItemSubset(movies,5)\n",
    "movieSubsetRec.show()"
   ]
  },
  {
   "cell_type": "code",
   "execution_count": 58,
   "metadata": {},
   "outputs": [
    {
     "name": "stdout",
     "output_type": "stream",
     "text": [
      "+-------+------+-----------+\n",
      "|movieId|userId|pred_rating|\n",
      "+-------+------+-----------+\n",
      "|   1580|    53|   4.769583|\n",
      "|   1580|   543|  4.4016747|\n",
      "|   1580|   276|   4.350332|\n",
      "|   1580|   452|   4.300159|\n",
      "|   1580|    43|  4.2290506|\n",
      "+-------+------+-----------+\n",
      "only showing top 5 rows\n",
      "\n"
     ]
    }
   ],
   "source": [
    "exploded_rec_mov = movieSubsetRec.withColumn(\"recommendation\", explode(\"recommendations\"))\n",
    "\n",
    "# Select the userId, movieId, and rating from the exploded DataFrame\n",
    "exploded_rec_mov = exploded_rec_mov.select(\n",
    "    col(\"movieId\"),\n",
    "    col(\"recommendation.userId\").alias(\"userId\"),\n",
    "    col(\"recommendation.rating\").alias(\"pred_rating\"))\n",
    "\n",
    "# Restrict predicted ratings to be between 0 and 5\n",
    "exploded_rec_mov = exploded_rec_mov.withColumn(\n",
    "    \"pred_rating\", \n",
    "    when(col(\"pred_rating\") > 5, 5).otherwise(col(\"pred_rating\")))\n",
    "exploded_rec_mov.show(5)"
   ]
  },
  {
   "cell_type": "code",
   "execution_count": 59,
   "metadata": {},
   "outputs": [
    {
     "name": "stdout",
     "output_type": "stream",
     "text": [
      "+------+----------------------------------+-----------+\n",
      "|userId|title                             |pred_rating|\n",
      "+------+----------------------------------+-----------+\n",
      "|53    |Dracula: Dead and Loving It (1995)|3.548811   |\n",
      "|558   |Dracula: Dead and Loving It (1995)|3.3245075  |\n",
      "|327   |Dracula: Dead and Loving It (1995)|3.2381494  |\n",
      "|371   |Dracula: Dead and Loving It (1995)|3.0953596  |\n",
      "|276   |Dracula: Dead and Loving It (1995)|3.0835876  |\n",
      "+------+----------------------------------+-----------+\n",
      "only showing top 5 rows\n",
      "\n"
     ]
    }
   ],
   "source": [
    "#Improving the Readability\n",
    "distinct_mov_rec = exploded_rec_mov.join(movies_data, \"movieId\")\n",
    "#Select the necessary columns\n",
    "distinct_mov_rec = movie_rec.select(\n",
    "    col(\"userId\"),\n",
    "    col(\"title\"),\n",
    "    col(\"pred_rating\"))\n",
    "    \n",
    "distinct_mov_rec.show(5, truncate=False)"
   ]
  },
  {
   "cell_type": "code",
   "execution_count": 60,
   "metadata": {},
   "outputs": [
    {
     "name": "stdout",
     "output_type": "stream",
     "text": [
      "+-------+------+-----------+------+\n",
      "|movieId|userId|pred_rating|rating|\n",
      "+-------+------+-----------+------+\n",
      "|   1580|    53|   4.769583|  NULL|\n",
      "|   1580|   543|  4.4016747|   5.0|\n",
      "|   1580|   276|   4.350332|  NULL|\n",
      "|   1580|   452|   4.300159|   4.0|\n",
      "|   1580|    43|  4.2290506|  NULL|\n",
      "+-------+------+-----------+------+\n",
      "only showing top 5 rows\n",
      "\n"
     ]
    }
   ],
   "source": [
    "# Evaluate the accuracy \n",
    "# Join distinct movies with actual ratings DataFrame\n",
    "movie_actual_ratings = movies.join(ratings_df, on=\"movieId\", how=\"inner\")\n",
    "\n",
    "#join the actual ratings for distinct users with the predicted ratings\n",
    "ratings_with_predictions = exploded_rec_mov.join(movie_actual_ratings, on=[ 'movieId', 'userId'], how = 'left')\n",
    "ratings_with_pred = ratings_with_predictions.dropna()\n",
    "# Show the DataFrame with actual ratings and predictions\n",
    "ratings_with_predictions.show(5)"
   ]
  },
  {
   "cell_type": "code",
   "execution_count": 61,
   "metadata": {},
   "outputs": [
    {
     "name": "stdout",
     "output_type": "stream",
     "text": [
      " Recommend  5 distinct movies to  5  users ,  Root Mean Square Error RMSE = 0.5131936828755559\n"
     ]
    }
   ],
   "source": [
    "#Create evaluator for each metric \n",
    "rmse_evaluator = RegressionEvaluator(metricName=\"rmse\", labelCol=\"rating\",predictionCol=\"pred_rating\") \n",
    "\n",
    "# Calculate the metrics\n",
    "rmse = rmse_evaluator.evaluate(ratings_with_pred) \n",
    "\n",
    "# Print the results\n",
    "print(\" Recommend  5 distinct movies to  5  users ,  Root Mean Square Error RMSE = \" + str(rmse))"
   ]
  },
  {
   "cell_type": "code",
   "execution_count": 62,
   "metadata": {},
   "outputs": [
    {
     "name": "stdout",
     "output_type": "stream",
     "text": [
      "+-------+--------------+\n",
      "|movieId|precision_at_k|\n",
      "+-------+--------------+\n",
      "|   1580|           0.2|\n",
      "|  32460|           1.0|\n",
      "|   3175|           0.2|\n",
      "|   2366|           0.2|\n",
      "|   1088|           0.2|\n",
      "+-------+--------------+\n",
      "\n",
      "Average Precision@K across distinct movies with 4.5 relevance: 0.36\n"
     ]
    }
   ],
   "source": [
    "# Calculate Precsion@K with a conservative threshold\n",
    "\n",
    "# Define relevance as items with predicted rating >= 4.5\n",
    "ratings_with_predictions = ratings_with_predictions.withColumn(\"is_relevant\", when(col(\"pred_rating\") >= 4.5, 1).otherwise(0))\n",
    "\n",
    "\n",
    "# Calculate Precision@K for each user\n",
    "precision_at_k = ratings_with_predictions.groupBy(\"movieId\") \\\n",
    "    .agg((sum(\"is_relevant\") / count(\"userId\")).alias(\"precision_at_k\"))\n",
    "\n",
    "precision_at_k .show(5)\n",
    "# Calculate the average Precision@K across all users\n",
    "avg_precision_at_k = precision_at_k.agg(avg(\"precision_at_k\").alias(\"avg_precision_at_k\")).collect()[0][0]\n",
    "\n",
    "print(f\"Average Precision@K across distinct movies with 4.5 relevance: {avg_precision_at_k}\")"
   ]
  },
  {
   "cell_type": "code",
   "execution_count": 63,
   "metadata": {},
   "outputs": [
    {
     "name": "stdout",
     "output_type": "stream",
     "text": [
      "+-------+--------------+\n",
      "|movieId|precision_at_k|\n",
      "+-------+--------------+\n",
      "|   1580|           1.0|\n",
      "|  32460|           1.0|\n",
      "|   3175|           1.0|\n",
      "|   2366|           1.0|\n",
      "|   1088|           1.0|\n",
      "+-------+--------------+\n",
      "\n",
      "Average Precision@K across distinct movies with 4.0 relevance: 1.0\n"
     ]
    }
   ],
   "source": [
    "# Calculate Precsion@K with a lenient threshold\n",
    "\n",
    "# Define relevance as items with predicted rating >= 4.0\n",
    "exploded_rec_mov = exploded_rec_mov.withColumn(\"is_relevant\", when(col(\"pred_rating\") >= 4.0, 1).otherwise(0))\n",
    "\n",
    "\n",
    "# Calculate Precision@K for each user\n",
    "precision_at_k = exploded_rec_mov.groupBy(\"movieId\") \\\n",
    "    .agg((sum(\"is_relevant\") / count(\"userId\")).alias(\"precision_at_k\"))\n",
    "\n",
    "precision_at_k .show(5)\n",
    "# Calculate the average Precision@K across all users\n",
    "avg_precision_at_k = precision_at_k.agg(avg(\"precision_at_k\").alias(\"avg_precision_at_k\")).collect()[0][0]\n",
    "\n",
    "print(f\"Average Precision@K across distinct movies with 4.0 relevance: {avg_precision_at_k}\")"
   ]
  },
  {
   "cell_type": "markdown",
   "metadata": {},
   "source": [
    "# Evaluation: Recommend 5 Distinct Movies to 5 Users\n",
    "\n",
    "The recommendation system was tested by recommending 5 distinct movies to 5 users with the following results:\n",
    " \n",
    " ### Root Mean Square Error (RMSE) = 0.5131\n",
    " \n",
    "This RMSE indicates a moderate level of accuracy in the predicted ratings, with some deviation from the actual ratings.\n",
    "\n",
    "### Average Precision@K across distinct movies: \n",
    "* With 4.5 relevance: 0.36\n",
    "Only 36% of the top 5 recommended movies are considered highly relevant based on a 4.5 rating threshold, suggesting stricter criteria are harder to meet.\n",
    "*  With 4.0 relevance: 1.0\n",
    "At a more lenient threshold of 4.0, all recommended movies (100%) are considered relevant, indicating the model performs perfectly when evaluating moderate relevance.\n",
    "\n",
    "These results indicate that the model performs better under less stringent relevance criteria."
   ]
  },
  {
   "cell_type": "markdown",
   "metadata": {},
   "source": [
    "\n"
   ]
  },
  {
   "cell_type": "markdown",
   "metadata": {},
   "source": [
    " # Demonstration of Personalized Recommendations\n",
    " \n",
    "To offer insights into the model's performance, personalized recommendations will be generated for an individual user.\n",
    " ."
   ]
  },
  {
   "cell_type": "code",
   "execution_count": 64,
   "metadata": {},
   "outputs": [
    {
     "name": "stdout",
     "output_type": "stream",
     "text": [
      "+------+--------------------+\n",
      "|userId|     recommendations|\n",
      "+------+--------------------+\n",
      "|    54|[{96004, 4.092481...|\n",
      "+------+--------------------+\n",
      "\n"
     ]
    }
   ],
   "source": [
    "# Generate recommendations for user 54\n",
    "userid= 54\n",
    "\n",
    "# Generate top 10 movie recommendations for all users\n",
    "userRecommend= final_model.recommendForAllUsers(10)\n",
    "\n",
    "# Filter recommendations for the user\n",
    "user54=userRecommend.filter(col(\"userId\") == userid)\n",
    "user54.show()"
   ]
  },
  {
   "cell_type": "code",
   "execution_count": 65,
   "metadata": {},
   "outputs": [
    {
     "name": "stdout",
     "output_type": "stream",
     "text": [
      "root\n",
      " |-- userId: integer (nullable = false)\n",
      " |-- recommendations: array (nullable = true)\n",
      " |    |-- element: struct (containsNull = true)\n",
      " |    |    |-- movieId: integer (nullable = true)\n",
      " |    |    |-- rating: float (nullable = true)\n",
      "\n"
     ]
    }
   ],
   "source": [
    "user54.printSchema()"
   ]
  },
  {
   "cell_type": "code",
   "execution_count": 66,
   "metadata": {},
   "outputs": [
    {
     "name": "stdout",
     "output_type": "stream",
     "text": [
      "+------+-------+-----------+\n",
      "|userId|movieId|pred_rating|\n",
      "+------+-------+-----------+\n",
      "|    54|  96004|  4.0924816|\n",
      "|    54|   3379|  4.0924816|\n",
      "|    54| 132333|    4.00343|\n",
      "|    54| 141718|  3.9777083|\n",
      "|    54|  33649|  3.9490638|\n",
      "|    54|   8235|  3.9326324|\n",
      "|    54|   6201|  3.9326324|\n",
      "|    54|  60943|  3.9209516|\n",
      "|    54|  59018|  3.9209516|\n",
      "|    54|  93008|   3.902513|\n",
      "+------+-------+-----------+\n",
      "\n"
     ]
    }
   ],
   "source": [
    "explod_user54 = user54.withColumn(\"recommendation\", explode(\"recommendations\"))\n",
    "\n",
    "# Select the userId, movieId, and rating from the exploded DataFrame\n",
    "explod_user54 = explod_user54.select(\n",
    "    col(\"userId\"),\n",
    "    col(\"recommendation.movieId\").alias(\"movieId\"),\n",
    "    col(\"recommendation.rating\").alias(\"pred_rating\"))\n",
    "\n",
    "# Restrict predicted ratings to be between 0 and 5\n",
    "explod_user54 = explod_user54.withColumn(\n",
    "    \"pred_rating\", \n",
    "    when(col(\"pred_rating\") > 5, 5).otherwise(col(\"pred_rating\")))\n",
    "explod_user54.show()"
   ]
  },
  {
   "cell_type": "code",
   "execution_count": 67,
   "metadata": {},
   "outputs": [
    {
     "name": "stdout",
     "output_type": "stream",
     "text": [
      "+------+-----------------------------------------------------------------------------------------------------------------------------+--------------------------+-----------+\n",
      "|userId|title                                                                                                                        |genres                    |pred_rating|\n",
      "+------+-----------------------------------------------------------------------------------------------------------------------------+--------------------------+-----------+\n",
      "|54    |Dragon Ball Z: The History of Trunks (Doragon bôru Z: Zetsubô e no hankô!! Nokosareta chô senshi - Gohan to Torankusu) (1993)|Action|Adventure|Animation|4.0924816  |\n",
      "|54    |On the Beach (1959)                                                                                                          |Drama                     |4.0924816  |\n",
      "|54    |Seve (2014)                                                                                                                  |Documentary|Drama         |4.00343    |\n",
      "|54    |Deathgasm (2015)                                                                                                             |Comedy|Horror             |3.9777083  |\n",
      "|54    |Saving Face (2004)                                                                                                           |Comedy|Drama|Romance      |3.9490638  |\n",
      "+------+-----------------------------------------------------------------------------------------------------------------------------+--------------------------+-----------+\n",
      "only showing top 5 rows\n",
      "\n"
     ]
    }
   ],
   "source": [
    "#Improving the Readability\n",
    "user54_rec = explod_user54.join(movies_data, \"movieId\")\n",
    "#Select the necessary columns\n",
    "user54_rec = user54_rec.select(\n",
    "    col(\"userId\"),\n",
    "    col(\"title\"),\n",
    "    col('genres'),\n",
    "    col(\"pred_rating\"))\n",
    "\n",
    "user54_rec.show(5, truncate=False)"
   ]
  },
  {
   "cell_type": "code",
   "execution_count": 68,
   "metadata": {},
   "outputs": [
    {
     "data": {
      "text/html": [
       "<div>\n",
       "<style scoped>\n",
       "    .dataframe tbody tr th:only-of-type {\n",
       "        vertical-align: middle;\n",
       "    }\n",
       "\n",
       "    .dataframe tbody tr th {\n",
       "        vertical-align: top;\n",
       "    }\n",
       "\n",
       "    .dataframe thead th {\n",
       "        text-align: right;\n",
       "    }\n",
       "</style>\n",
       "<table border=\"1\" class=\"dataframe\">\n",
       "  <thead>\n",
       "    <tr style=\"text-align: right;\">\n",
       "      <th></th>\n",
       "      <th>userId</th>\n",
       "      <th>title</th>\n",
       "      <th>genres</th>\n",
       "      <th>pred_rating</th>\n",
       "    </tr>\n",
       "  </thead>\n",
       "  <tbody>\n",
       "    <tr>\n",
       "      <th>0</th>\n",
       "      <td>54</td>\n",
       "      <td>Dragon Ball Z: The History of Trunks (Doragon ...</td>\n",
       "      <td>Action|Adventure|Animation</td>\n",
       "      <td>4.092482</td>\n",
       "    </tr>\n",
       "    <tr>\n",
       "      <th>1</th>\n",
       "      <td>54</td>\n",
       "      <td>On the Beach (1959)</td>\n",
       "      <td>Drama</td>\n",
       "      <td>4.092482</td>\n",
       "    </tr>\n",
       "    <tr>\n",
       "      <th>2</th>\n",
       "      <td>54</td>\n",
       "      <td>Seve (2014)</td>\n",
       "      <td>Documentary|Drama</td>\n",
       "      <td>4.003430</td>\n",
       "    </tr>\n",
       "    <tr>\n",
       "      <th>3</th>\n",
       "      <td>54</td>\n",
       "      <td>Deathgasm (2015)</td>\n",
       "      <td>Comedy|Horror</td>\n",
       "      <td>3.977708</td>\n",
       "    </tr>\n",
       "    <tr>\n",
       "      <th>4</th>\n",
       "      <td>54</td>\n",
       "      <td>Saving Face (2004)</td>\n",
       "      <td>Comedy|Drama|Romance</td>\n",
       "      <td>3.949064</td>\n",
       "    </tr>\n",
       "    <tr>\n",
       "      <th>5</th>\n",
       "      <td>54</td>\n",
       "      <td>Safety Last! (1923)</td>\n",
       "      <td>Action|Comedy|Romance</td>\n",
       "      <td>3.932632</td>\n",
       "    </tr>\n",
       "    <tr>\n",
       "      <th>6</th>\n",
       "      <td>54</td>\n",
       "      <td>Lady Jane (1986)</td>\n",
       "      <td>Drama|Romance</td>\n",
       "      <td>3.932632</td>\n",
       "    </tr>\n",
       "    <tr>\n",
       "      <th>7</th>\n",
       "      <td>54</td>\n",
       "      <td>Frozen River (2008)</td>\n",
       "      <td>Drama</td>\n",
       "      <td>3.920952</td>\n",
       "    </tr>\n",
       "    <tr>\n",
       "      <th>8</th>\n",
       "      <td>54</td>\n",
       "      <td>Visitor, The (2007)</td>\n",
       "      <td>Drama|Romance</td>\n",
       "      <td>3.920952</td>\n",
       "    </tr>\n",
       "    <tr>\n",
       "      <th>9</th>\n",
       "      <td>54</td>\n",
       "      <td>Very Potter Sequel, A (2010)</td>\n",
       "      <td>Comedy|Musical</td>\n",
       "      <td>3.902513</td>\n",
       "    </tr>\n",
       "  </tbody>\n",
       "</table>\n",
       "</div>"
      ],
      "text/plain": [
       "   userId                                              title  \\\n",
       "0      54  Dragon Ball Z: The History of Trunks (Doragon ...   \n",
       "1      54                                On the Beach (1959)   \n",
       "2      54                                        Seve (2014)   \n",
       "3      54                                   Deathgasm (2015)   \n",
       "4      54                                 Saving Face (2004)   \n",
       "5      54                                Safety Last! (1923)   \n",
       "6      54                                   Lady Jane (1986)   \n",
       "7      54                                Frozen River (2008)   \n",
       "8      54                                Visitor, The (2007)   \n",
       "9      54                       Very Potter Sequel, A (2010)   \n",
       "\n",
       "                       genres  pred_rating  \n",
       "0  Action|Adventure|Animation     4.092482  \n",
       "1                       Drama     4.092482  \n",
       "2           Documentary|Drama     4.003430  \n",
       "3               Comedy|Horror     3.977708  \n",
       "4        Comedy|Drama|Romance     3.949064  \n",
       "5       Action|Comedy|Romance     3.932632  \n",
       "6               Drama|Romance     3.932632  \n",
       "7                       Drama     3.920952  \n",
       "8               Drama|Romance     3.920952  \n",
       "9              Comedy|Musical     3.902513  "
      ]
     },
     "execution_count": 68,
     "metadata": {},
     "output_type": "execute_result"
    }
   ],
   "source": [
    "# Convert the Spark DataFrame to a Pandas DataFrame\n",
    "user54_rec_pd = user54_rec.toPandas()\n",
    "\n",
    "# Display the Pandas DataFrame \n",
    "user54_rec_pd\n"
   ]
  },
  {
   "cell_type": "markdown",
   "metadata": {},
   "source": [
    "Precision@K for personalized recommendations evaluates how many of the top  k (10) recommended items are actually relevant."
   ]
  },
  {
   "cell_type": "code",
   "execution_count": 69,
   "metadata": {},
   "outputs": [
    {
     "name": "stdout",
     "output_type": "stream",
     "text": [
      "+------+-------+-----------+-----------+\n",
      "|userId|movieId|pred_rating|is_relevant|\n",
      "+------+-------+-----------+-----------+\n",
      "|    54|  96004|  4.0924816|          1|\n",
      "|    54|   3379|  4.0924816|          1|\n",
      "|    54| 132333|    4.00343|          1|\n",
      "|    54| 141718|  3.9777083|          0|\n",
      "|    54|  33649|  3.9490638|          0|\n",
      "|    54|   8235|  3.9326324|          0|\n",
      "|    54|   6201|  3.9326324|          0|\n",
      "|    54|  60943|  3.9209516|          0|\n",
      "|    54|  59018|  3.9209516|          0|\n",
      "|    54|  93008|   3.902513|          0|\n",
      "+------+-------+-----------+-----------+\n",
      "\n",
      "Precision@K for user54 with 4.0 relevance: 0.3\n"
     ]
    }
   ],
   "source": [
    "\n",
    "# Set relevance for recommendations based on predicted ratings ≥ 4.0)\n",
    "explod_user54 = explod_user54.withColumn(\"is_relevant\", when(col(\"pred_rating\") >= 4.0, 1).otherwise(0))\n",
    "\n",
    "#  DataFrame with relevance\n",
    "explod_user54.show()\n",
    "\n",
    "# Set K value \n",
    "K = 10\n",
    "\n",
    "# Calculate Precision@K for user54 by taking the sum of relevant items in top K\n",
    "precision_at_k_user54 = explod_user54.orderBy(col(\"pred_rating\").desc()) \\\n",
    "    .limit(K) \\\n",
    "    .agg((sum(\"is_relevant\") / K).alias(\"precision_at_k\"))\n",
    "\n",
    "precision_value = precision_at_k_user54.collect()[0][0]\n",
    "# Precision@K for user54\n",
    "print(f\"Precision@K for user54 with 4.0 relevance: {precision_value}\")\n"
   ]
  },
  {
   "cell_type": "code",
   "execution_count": 77,
   "metadata": {},
   "outputs": [
    {
     "name": "stdout",
     "output_type": "stream",
     "text": [
      "+------+-------+-----------+-----------+\n",
      "|userId|movieId|pred_rating|is_relevant|\n",
      "+------+-------+-----------+-----------+\n",
      "|    54|  96004|  4.0924816|          0|\n",
      "|    54|   3379|  4.0924816|          0|\n",
      "|    54| 132333|    4.00343|          0|\n",
      "|    54| 141718|  3.9777083|          0|\n",
      "|    54|  33649|  3.9490638|          0|\n",
      "|    54|   8235|  3.9326324|          0|\n",
      "|    54|   6201|  3.9326324|          0|\n",
      "|    54|  60943|  3.9209516|          0|\n",
      "|    54|  59018|  3.9209516|          0|\n",
      "|    54|  93008|   3.902513|          0|\n",
      "+------+-------+-----------+-----------+\n",
      "\n",
      "Precision@K for user54 with 4.5 relevance: 0.0\n"
     ]
    }
   ],
   "source": [
    "# Set relevance for recommendations based on predicted ratings ≥ 4.5)\n",
    "explod_user54 = explod_user54.withColumn(\"is_relevant\", when(col(\"pred_rating\") >= 4.5, 1).otherwise(0))\n",
    "\n",
    "#  DataFrame with relevance\n",
    "explod_user54.show()\n",
    "\n",
    "# Set K value \n",
    "K = 10\n",
    "\n",
    "# Calculate Precision@K for user54 by taking the sum of relevant items in top K\n",
    "precision_at_k_user54 = explod_user54.orderBy(col(\"pred_rating\").desc()) \\\n",
    "    .limit(K) \\\n",
    "    .agg((sum(\"is_relevant\") / K).alias(\"precision_at_k\"))\n",
    "\n",
    "precision_value = precision_at_k_user54.collect()[0][0]\n",
    "# Precision@K for user54\n",
    "print(f\"Precision@K for user54 with 4.5 relevance: {precision_value}\")"
   ]
  },
  {
   "cell_type": "markdown",
   "metadata": {},
   "source": [
    "\n",
    "# Personalized Recommendations\n",
    "\n",
    "### Precision@K for user54 with 4.0 relevance: 0.4\n",
    "\n",
    "* The recommendation model suggests movies that user54 has not rated yet.\n",
    "* With a relevance threshold of 4.0, 40% of the top 10 recommended movies are considered relevant by the user.\n",
    "\n",
    "### Precision@K for user54 with 4.5 relevance: 0.0\n",
    "\n",
    "* When the threshold is more conservative 4.5, none of the top K recommended items were considered relevant.\n",
    "\n",
    "The model performs well with a less stringent relevance threshold (4.0), identifying movies that the user enjoys. However, at the 4.5 threshold, it struggles to recommend movies the user would \"love\" rather than just \"like,\" indicating room for improvement in the model's accuracy."
   ]
  },
  {
   "cell_type": "markdown",
   "metadata": {},
   "source": [
    "# Conclusion\n",
    "SSpark MLlib was utilized to build a movie recommendation system for King Isle, aiming to generate 5 personalized movie recommendations that prioritize the highest-rated movies. The baseline model was trained and evaluated, achieving a Root Mean Square Error (RMSE) of 0.8814. After tuning the model to find the optimal parameter combination, the accuracy improved, with the tuned model achieving an RMSE of 0.8753. This collaborative filtering recommendation system was developed, and the model's predicted ratings and performance were evaluated to meet the business needs.\n",
    "\n",
    "### Top 5 Movies Recommendation Evaluation\n",
    "\n",
    "| Metric                               | Value  | Interpretation                                                                                 |\n",
    "|--------------------------------------|--------|-----------------------------------------------------------------------------------------------|\n",
    "| RMSE                                 | 0.4464 | Predicted ratings deviate by approximately 0.44 units, indicating strong prediction accuracy.  |\n",
    "| Average Precision@K (4.5 relevance)  | 0.6614 | 66% of the top 5 recommended movies for each user are considered relevant based on a 4.5 threshold. |\n",
    "| Average Precision@K (4.0 relevance)  | 0.8763 | 87% of the top 5 recommended movies for each user are considered relevant based on a 4.0 threshold. |\n",
    "\n",
    "\n",
    "### Model Predicted Ratings and Evaluation for Top 5 Users per Movie\n",
    "\n",
    "| Metric                           | Value  | Interpretation                                                                                 |\n",
    "|-----------------------------------|--------|-----------------------------------------------------------------------------------------------|\n",
    "| RMSE                             | 0.6255 | Predicted ratings deviate by approximately 0.63 units, indicating the model closely approximates user ratings. |\n",
    "| Precision@K (4.5 relevance)       | 0.2830 | 28.3% of the top 5 recommended users for each movie are considered highly relevant based on a 4.5 threshold. |\n",
    "| Precision@K (4.0 relevance)       | 0.5944 | 59.4% of the top 5 recommended users for each movie are considered relevant based on a 4.0 threshold. |\n",
    "\n",
    "### Additional Insights:\n",
    "- **Stricter Threshold (4.5):** With a relevance threshold of 4.5, precision is lower (28.3%) because fewer users rate movies ≥ 4.5. This indicates that fewer recommendations meet the top preference level.\n",
    "- **Lenient Threshold (4.0):** At a 4.0 relevance threshold, precision improves to 59.4%, showing that more users find the recommended movies moderately enjoyable.\n",
    "- **Threshold Considerations:** The 4.5 threshold ensures stronger relevance but at the cost of precision, while the 4.0 threshold captures a broader range of user satisfaction.\n",
    "\n",
    "\n",
    "# Proof of Concept \n",
    "### Evaluation of Recommending 5 Movies to 20 Distinct Users\n",
    "\n",
    "| Metric                             | Value  | Interpretation                                                                                  |\n",
    "|------------------------------------|--------|------------------------------------------------------------------------------------------------|\n",
    "| Root Mean Square Error (RMSE)      | 0.2510 | The low RMSE indicates that the predicted ratings are very close to the actual ratings, showing high accuracy. |\n",
    "| Precision@K (4.5 relevance)        | 0.840  | 84% of the top 5 recommended movies for each user are highly relevant, based on a 4.5 rating threshold. |\n",
    "| Precision@K (4.0 relevance)        | 0.960  | 96% of the top 5 recommended movies for each user are relevant, with a more lenient 4.0 threshold applied. |\n",
    "\n",
    "### Summary:\n",
    "- The **RMSE** of 0.2510 indicates that the model's predicted ratings are highly accurate, closely matching users' actual ratings.\n",
    "- With a **4.5 relevance threshold**, 84% of the top 5 recommended movies are highly relevant, meaning users will likely \"love\" those movies.\n",
    "- With a **4.0 relevance threshold**, 96% of the recommended movies are considered relevant, indicating a strong match with user preferences even with a more relaxed threshold.\n",
    "- Overall, the recommendation system is highly effective at predicting and recommending relevant movies to distinct users.\n",
    "\n",
    "\n",
    "### Evaluation: Recommend 5 Distinct Movies to 5 Users\n",
    "\n",
    "| Metric                             | Value  | Interpretation                                                                                  |\n",
    "|------------------------------------|--------|------------------------------------------------------------------------------------------------|\n",
    "| Root Mean Square Error (RMSE)      | 0.5132 | The RMSE indicates moderate accuracy in the predicted ratings, with some deviation from the actual ratings. |\n",
    "| Precision@K (4.5 relevance)        | 0.36   | Only 36% of the top 5 recommended movies are considered highly relevant based on a stricter 4.5 threshold. |\n",
    "| Precision@K (4.0 relevance)        | 1.0    | At a more lenient 4.0 threshold, 100% of the recommended movies are considered relevant, showing perfect performance at this level. |\n",
    "\n",
    "### Summary:\n",
    "- The **RMSE** of 0.5132 suggests that the predicted ratings are moderately accurate, but there is some deviation from the actual user ratings.\n",
    "- With a **4.5 relevance threshold**, only 36% of the recommended movies are considered highly relevant, indicating that the model struggles to meet stricter relevance criteria.\n",
    "- With a **4.0 relevance threshold**, all of the recommended movies are relevant (100%), showing that the model performs excellently under less stringent relevance conditions.\n",
    "- Overall, the model performs significantly better when evaluated with more lenient criteria (4.0 relevance threshold).\n",
    "\n",
    "\n",
    "\n",
    "# Personalized Recommendations\n",
    "### Precision@K for user54\n",
    "\n",
    "| Relevance Threshold | Precision@K | Interpretation                                                                                   |\n",
    "|---------------------|-------------|--------------------------------------------------------------------------------------------------|\n",
    "| 4.0                 | 0.4         | 40% of the top 10 recommended movies are considered relevant by the user.                        |\n",
    "| 4.5                 | 0.0         | None of the top K recommended items were considered relevant under the stricter 4.5 threshold.    |\n",
    "\n",
    "### Summary:\n",
    "- The recommendation model suggests movies that user54 has not rated yet.\n",
    "- With a relevance threshold of **4.0**, 40% of the top 10 recommended movies are considered relevant by the user.\n",
    "- When the threshold is more conservative at **4.5**, none of the top K recommended items were considered relevant.\n",
    "- The model performs well with a less stringent relevance threshold (4.0), identifying movies that the user enjoys. However, at the 4.5 threshold, it struggles to recommend movies the user would \"love\" rather than just \"like,\" indicating room for improvement in the model's accuracy.\n",
    "\n"
   ]
  },
  {
   "cell_type": "markdown",
   "metadata": {},
   "source": [
    "# Next Steps\n",
    "\n",
    "* Refine Model Parameters and Improve Accuracy:\n",
    "\n",
    "Conduct further hyperparameter tuning to enhance the model's accuracy and robustness. Prediction accuracy  values varys in different scenarios, for example tuning  parameters such as  the number of latent factors and regularization terms can improve overall performance, especially for smaller user sets or for stricter thresholds (e.g., 4.5).\n",
    "\n",
    "* Incorporate Hybrid Recommendations:\n",
    "\n",
    "Incorporate movie metadata, such as genres, directors, and actors, to generate more relevant recommendations. Combine content-based filtering with the current collaborative filtering approach to develop a hybrid recommendation system.\n",
    "\n",
    "\n",
    "* Expand Evaluation Metrics:\n",
    "\n",
    "For the hybrid recommendation utilize a mix of accuracy metrics(eg. Recall@K) and qualitative metrics (like Diversity, Coverage) to provide a comprehensive evaluation. This ensures that the system not only predicts user preferences accurately but also offers varied, new, and unexpected recommendations.\n",
    "    \n",
    "    \n",
    "* Recommendations Refinement:\n",
    "\n",
    "Derive and incorporate implicit feedback such as engagement strength, frequency   and watch durations to better capture user preferences and improve recommendation quality for individual users.\n"
   ]
  },
  {
   "cell_type": "code",
   "execution_count": null,
   "metadata": {},
   "outputs": [],
   "source": []
  }
 ],
 "metadata": {
  "kernelspec": {
   "display_name": "Python (learn-env)",
   "language": "python",
   "name": "learn-env"
  },
  "language_info": {
   "codemirror_mode": {
    "name": "ipython",
    "version": 3
   },
   "file_extension": ".py",
   "mimetype": "text/x-python",
   "name": "python",
   "nbconvert_exporter": "python",
   "pygments_lexer": "ipython3",
   "version": "3.8.5"
  }
 },
 "nbformat": 4,
 "nbformat_minor": 4
}
